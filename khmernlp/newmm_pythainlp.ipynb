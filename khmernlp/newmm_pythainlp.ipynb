{
  "nbformat": 4,
  "nbformat_minor": 0,
  "metadata": {
    "colab": {
      "provenance": [],
      "collapsed_sections": [
        "Fnz873rCjwdH",
        "W8qOGjNIoEIh",
        "pbF5DamyoWWY",
        "Wkv6s-gu1aCN",
        "Oh2iZfSicoJr",
        "c0iyC9PQQrRH",
        "9tlRicYuaMM4",
        "gr-CCHgIaups"
      ]
    },
    "kernelspec": {
      "name": "python3",
      "display_name": "Python 3"
    }
  },
  "cells": [
    {
      "metadata": {
        "id": "15drZwEphMzR"
      },
      "cell_type": "markdown",
      "source": [
        "# New Maximal Matching\n",
        "ของเดิม ใช้ multicut ก่อน ทำให้เสียเวลา ตัวใหม่ทำ maximal โดยตรง จะได้เร็วขึ้น"
      ]
    },
    {
      "metadata": {
        "id": "Fnz873rCjwdH"
      },
      "cell_type": "markdown",
      "source": [
        "## Import"
      ]
    },
    {
      "metadata": {
        "id": "y1lHieGehKW5"
      },
      "cell_type": "code",
      "source": [
        "import re\n",
        "from collections import defaultdict\n",
        "from heapq import heappush, heappop  # for priority queue\n",
        "\n",
        "!pip install -q marisa_trie\n",
        "from marisa_trie import Trie"
      ],
      "execution_count": null,
      "outputs": []
    },
    {
      "metadata": {
        "id": "W8qOGjNIoEIh"
      },
      "cell_type": "markdown",
      "source": [
        "## Load Data\n",
        "เอา wordlist มาสร้าง trie"
      ]
    },
    {
      "metadata": {
        "id": "FPetXs6Lj628",
        "colab": {
          "base_uri": "https://localhost:8080/",
          "height": 54
        },
        "outputId": "fb8eac3b-c7f9-4013-cf50-667500e58b83"
      },
      "cell_type": "code",
      "source": [
        "!wget -nv https://github.com/PyThaiNLP/pythainlp/raw/dev/pythainlp/corpus/thaiword.txt"
      ],
      "execution_count": null,
      "outputs": [
        {
          "output_type": "stream",
          "text": [
            "2018-02-19 04:20:01 URL:https://raw.githubusercontent.com/PyThaiNLP/pythainlp/dev/pythainlp/corpus/thaiword.txt [1245519/1245519] -> \"thaiword.txt\" [1]\r\n"
          ],
          "name": "stdout"
        }
      ]
    },
    {
      "metadata": {
        "id": "nskwTCK3kBX5"
      },
      "cell_type": "code",
      "source": [
        "wordlist = [li.strip() for li in open('thaiword.txt')]\n",
        "trie = Trie(wordlist)"
      ],
      "execution_count": null,
      "outputs": []
    },
    {
      "metadata": {
        "id": "pbF5DamyoWWY"
      },
      "cell_type": "markdown",
      "source": [
        "## One Cut\n",
        "แทนที่ multicut"
      ]
    },
    {
      "metadata": {
        "id": "sZnWecX5n_gt"
      },
      "cell_type": "code",
      "source": [
        "# ช่วยตัดพวกภาษาอังกฤษ เป็นต้น\n",
        "pat_eng = re.compile(r'''(?x)\n",
        "[-a-zA-Z]+|   # english\n",
        "\\d[\\d,\\.]*|   # number\n",
        "[ \\t]+|       # space\n",
        "\\r?\\n         # newline\n",
        "''')"
      ],
      "execution_count": null,
      "outputs": []
    },
    {
      "metadata": {
        "id": "vvrSyr8ppMfz"
      },
      "cell_type": "code",
      "source": [
        "text = 'สวัสดีครับ สบายดีไหมครับ'"
      ],
      "execution_count": null,
      "outputs": []
    },
    {
      "metadata": {
        "id": "t1KpSfXjpIzS"
      },
      "cell_type": "code",
      "source": [
        "def onecut(text):\n",
        "  words_at = defaultdict(list)  # main data structure\n",
        "\n",
        "  def serialize(p, p2):    # helper function\n",
        "    for w in words_at[p]:\n",
        "      p_ = p + len(w)\n",
        "      if p_== p2:\n",
        "        yield [w]\n",
        "      elif p_ < p2:\n",
        "        for path in serialize(p_, p2):\n",
        "          yield [w]+path\n",
        "\n",
        "  q = [0]       # min-heap queue\n",
        "  last_p = 0    # last position for yield\n",
        "  while q[0] < len(text):\n",
        "      p = heappop(q)\n",
        "\n",
        "      for w in trie.prefixes(text[p:]):\n",
        "          words_at[p].append(w)\n",
        "          if p+len(w) not in q:\n",
        "            heappush(q, p+len(w))\n",
        "\n",
        "      if len(q)==1:\n",
        "          for w in min(serialize(last_p, q[0]), key=len):\n",
        "            yield w\n",
        "          last_p = q[0]\n",
        "\n",
        "      # กรณี len(q) == 0  คือ ไม่มีใน dict\n",
        "      if len(q)==0:\n",
        "          m = pat_eng.match(text[p:])\n",
        "          if m: # อังกฤษ, เลข, ว่าง\n",
        "              i = p + m.span()[1]\n",
        "          else: # skip น้อยที่สุด ที่เป็นไปได้\n",
        "              for i in range(p, len(text)):\n",
        "                  ww = trie.prefixes(text[i:])\n",
        "                  m = pat_eng.match(text[i:])\n",
        "                  if ww or m:\n",
        "                      break\n",
        "              else:\n",
        "                  i = len(text)\n",
        "          w = text[p:i]\n",
        "          words_at[p].append(w)\n",
        "          yield w\n",
        "          last_p = i\n",
        "          heappush(q, i)"
      ],
      "execution_count": null,
      "outputs": []
    },
    {
      "metadata": {
        "id": "Wkv6s-gu1aCN"
      },
      "cell_type": "markdown",
      "source": [
        "### heapq แทน set"
      ]
    },
    {
      "metadata": {
        "id": "0GFIwF0S1Ugx",
        "colab": {
          "base_uri": "https://localhost:8080/",
          "height": 34
        },
        "outputId": "e4a1de12-d095-4c0c-83c3-7d3752e4c898"
      },
      "cell_type": "code",
      "source": [
        "q = []   # min heap queue\n",
        "for x in [4, 9, 2, 1, 5]:\n",
        "  heappush(q, x)\n",
        "q"
      ],
      "execution_count": null,
      "outputs": [
        {
          "output_type": "execute_result",
          "data": {
            "text/plain": [
              "[1, 2, 4, 9, 5]"
            ]
          },
          "metadata": {
            "tags": []
          },
          "execution_count": 69
        }
      ]
    },
    {
      "metadata": {
        "id": "u4ryMECP3Hwn",
        "colab": {
          "base_uri": "https://localhost:8080/",
          "height": 34
        },
        "outputId": "14fe5ccf-3ac7-4a94-8e9d-ef9ed428ab3a"
      },
      "cell_type": "code",
      "source": [
        "print(\"min of queue is\", q[0])"
      ],
      "execution_count": null,
      "outputs": [
        {
          "output_type": "stream",
          "text": [
            "min of queue is 1\n"
          ],
          "name": "stdout"
        }
      ]
    },
    {
      "metadata": {
        "id": "qkqb__w-20uJ",
        "colab": {
          "base_uri": "https://localhost:8080/",
          "height": 101
        },
        "outputId": "060390cf-627f-4619-bea4-e78a587d16b3"
      },
      "cell_type": "code",
      "source": [
        "while q:\n",
        "  print(heappop(q))"
      ],
      "execution_count": null,
      "outputs": [
        {
          "output_type": "stream",
          "text": [
            "1\n",
            "2\n",
            "4\n",
            "5\n",
            "9\n"
          ],
          "name": "stdout"
        }
      ]
    },
    {
      "metadata": {
        "id": "Oh2iZfSicoJr"
      },
      "cell_type": "markdown",
      "source": [
        "### Manual loop"
      ]
    },
    {
      "metadata": {
        "id": "mSTdQOpZcrCu"
      },
      "cell_type": "code",
      "source": [
        "words_at = defaultdict(list)\n",
        "q = [0]\n",
        "last_p = 0"
      ],
      "execution_count": null,
      "outputs": []
    },
    {
      "metadata": {
        "id": "INkfWE0Fcq-m",
        "colab": {
          "base_uri": "https://localhost:8080/",
          "height": 51
        },
        "outputId": "fbd58279-6c18-411d-8277-03fae00cc276"
      },
      "cell_type": "code",
      "source": [
        "# manual instead of while loop\n",
        "print(q[0])\n",
        "p = heappop(q)\n",
        "\n",
        "for w in trie.prefixes(text[p:]):\n",
        "  words_at[p].append(w)\n",
        "  if p+len(w) not in q:\n",
        "    heappush(q, p+len(w))\n",
        "q"
      ],
      "execution_count": null,
      "outputs": [
        {
          "output_type": "stream",
          "text": [
            "0\n"
          ],
          "name": "stdout"
        },
        {
          "output_type": "execute_result",
          "data": {
            "text/plain": [
              "[1, 2, 6]"
            ]
          },
          "metadata": {
            "tags": []
          },
          "execution_count": 12
        }
      ]
    },
    {
      "metadata": {
        "id": "E3ITMYSXMjS0",
        "colab": {
          "base_uri": "https://localhost:8080/",
          "height": 34
        },
        "outputId": "17a2530c-3494-4a7f-e88a-e9fb69c2b2da"
      },
      "cell_type": "code",
      "source": [
        "# ส, สว\n",
        "'สวัสดี' in wordlist"
      ],
      "execution_count": null,
      "outputs": [
        {
          "output_type": "execute_result",
          "data": {
            "text/plain": [
              "True"
            ]
          },
          "metadata": {
            "tags": []
          },
          "execution_count": 15
        }
      ]
    },
    {
      "metadata": {
        "id": "xKYBEKaMMu9d",
        "colab": {
          "base_uri": "https://localhost:8080/",
          "height": 51
        },
        "outputId": "3c736320-05dc-4811-8f47-9b14947474c6"
      },
      "cell_type": "code",
      "source": [
        "print(q[0])\n",
        "p = heappop(q)\n",
        "\n",
        "for w in trie.prefixes(text[p:]):\n",
        "  words_at[p].append(w)\n",
        "  if p+len(w) not in q:\n",
        "    heappush(q, p+len(w))\n",
        "q"
      ],
      "execution_count": null,
      "outputs": [
        {
          "output_type": "stream",
          "text": [
            "1\n"
          ],
          "name": "stdout"
        },
        {
          "output_type": "execute_result",
          "data": {
            "text/plain": [
              "[2, 6]"
            ]
          },
          "metadata": {
            "tags": []
          },
          "execution_count": 16
        }
      ]
    },
    {
      "metadata": {
        "id": "CNGJ-EsaNeAy",
        "colab": {
          "base_uri": "https://localhost:8080/",
          "height": 51
        },
        "outputId": "fb3067dc-caf8-4493-e432-3500b16fd7ca"
      },
      "cell_type": "code",
      "source": [
        "print(q[0])\n",
        "p = heappop(q)\n",
        "\n",
        "for w in trie.prefixes(text[p:]):\n",
        "  words_at[p].append(w)\n",
        "  if p+len(w) not in q:\n",
        "    heappush(q, p+len(w))\n",
        "q"
      ],
      "execution_count": null,
      "outputs": [
        {
          "output_type": "stream",
          "text": [
            "2\n"
          ],
          "name": "stdout"
        },
        {
          "output_type": "execute_result",
          "data": {
            "text/plain": [
              "[6]"
            ]
          },
          "metadata": {
            "tags": []
          },
          "execution_count": 17
        }
      ]
    },
    {
      "metadata": {
        "id": "YCP9iUFHNs6q",
        "colab": {
          "base_uri": "https://localhost:8080/",
          "height": 34
        },
        "outputId": "5ad67f70-7595-475a-c9b6-610ecb7ff937"
      },
      "cell_type": "code",
      "source": [
        "# if len(q) == 1:\n",
        "#   q0 = q[0]\n",
        "#   yield LatticeString(text[last_p:q0], serialize(last_p, q0))\n",
        "#   last_p = q0\n",
        "last_p, q[0]"
      ],
      "execution_count": null,
      "outputs": [
        {
          "output_type": "execute_result",
          "data": {
            "text/plain": [
              "(0, 6)"
            ]
          },
          "metadata": {
            "tags": []
          },
          "execution_count": 18
        }
      ]
    },
    {
      "metadata": {
        "id": "a1iwoO1COOYw",
        "colab": {
          "base_uri": "https://localhost:8080/",
          "height": 34
        },
        "outputId": "7ad4e293-7e19-4afb-9d16-8e608d2a0dbe"
      },
      "cell_type": "code",
      "source": [
        "words_at"
      ],
      "execution_count": null,
      "outputs": [
        {
          "output_type": "execute_result",
          "data": {
            "text/plain": [
              "defaultdict(list, {0: ['ส', 'สว', 'สวัสดี']})"
            ]
          },
          "metadata": {
            "tags": []
          },
          "execution_count": 20
        }
      ]
    },
    {
      "metadata": {
        "id": "c0iyC9PQQrRH"
      },
      "cell_type": "markdown",
      "source": [
        "### mm_path\n",
        "ปรับจาก LatticeString ที่รวมทุกๆ path มาเป็น min แค่ path เดียว"
      ]
    },
    {
      "metadata": {
        "id": "OnLIq_zIQxTc"
      },
      "cell_type": "code",
      "source": [
        "def serialize(p, p2):    # helper function\n",
        "  for w in words_at[p]:\n",
        "    p_ = p + len(w)\n",
        "    if p_== p2:\n",
        "      yield [w]\n",
        "    elif p_ < p2:\n",
        "      for path in serialize(p_, p2):\n",
        "        yield [w]+path"
      ],
      "execution_count": null,
      "outputs": []
    },
    {
      "metadata": {
        "id": "dOQ-ZdRJRFBe",
        "colab": {
          "base_uri": "https://localhost:8080/",
          "height": 34
        },
        "outputId": "8daab180-b1b4-4ef9-fd63-7711e4d1bf55"
      },
      "cell_type": "code",
      "source": [
        "# maximal path ก็คือใช้ len เป็นตัวเลือก\n",
        "min(serialize(0,6), key=len)"
      ],
      "execution_count": null,
      "outputs": [
        {
          "output_type": "execute_result",
          "data": {
            "text/plain": [
              "['สวัสดี']"
            ]
          },
          "metadata": {
            "tags": []
          },
          "execution_count": 25
        }
      ]
    },
    {
      "metadata": {
        "id": "G2T7gNKSaAFT"
      },
      "cell_type": "markdown",
      "source": [
        "ทดลองเสร็จแล้ว ก็ไปแก้ใน one cut ด้านบน"
      ]
    },
    {
      "metadata": {
        "id": "9tlRicYuaMM4"
      },
      "cell_type": "markdown",
      "source": [
        "## ทดลอง"
      ]
    },
    {
      "metadata": {
        "id": "Z9Fzlc3dQGIM",
        "colab": {
          "base_uri": "https://localhost:8080/",
          "height": 34
        },
        "outputId": "8a5ae8ee-ee11-4933-b6df-7f550f1f2938"
      },
      "cell_type": "code",
      "source": [
        "list(onecut('ตามหามเหสี'))"
      ],
      "execution_count": null,
      "outputs": [
        {
          "output_type": "execute_result",
          "data": {
            "text/plain": [
              "['ตามหา', 'มเหสี']"
            ]
          },
          "metadata": {
            "tags": []
          },
          "execution_count": 32
        }
      ]
    },
    {
      "metadata": {
        "id": "gr-CCHgIaups"
      },
      "cell_type": "markdown",
      "source": [
        "## รวม TCC\n",
        "หลักคือ คำนวณ tcc position ก่อน และสร้าง edge เฉพาะที่ลงพอดีตำแหน่งกัน"
      ]
    },
    {
      "metadata": {
        "id": "LN8-Gf7paLXc"
      },
      "cell_type": "code",
      "source": [
        "pat_tcc = \"\"\"\\\n",
        "เc็c\n",
        "เcctาะ\n",
        "เccีtยะ\n",
        "เccีtย(?=[เ-ไก-ฮ]|$)\n",
        "เccอะ\n",
        "เcc็c\n",
        "เcิc์c\n",
        "เcิtc\n",
        "เcีtยะ?\n",
        "เcืtอะ?\n",
        "เc[ิีุู]tย(?=[เ-ไก-ฮ]|$)\n",
        "เctา?ะ?\n",
        "cัtวะ\n",
        "c[ัื]tc[ุิะ]?\n",
        "c[ิุู]์\n",
        "c[ะ-ู]t\n",
        "c็\n",
        "ct[ะาำ]?\n",
        "แc็c\n",
        "แcc์\n",
        "แctะ\n",
        "แcc็c\n",
        "แccc์\n",
        "โctะ\n",
        "[เ-ไ]ct\n",
        "\"\"\".replace('c','[ก-ฮ]').replace('t', '[่-๋]?').split()\n",
        "\n",
        "def tcc(w):\n",
        "    p = 0\n",
        "    pat = re.compile(\"|\".join(pat_tcc))\n",
        "    while p<len(w):\n",
        "        m = pat.match(w[p:])\n",
        "        if m:\n",
        "            n = m.span()[1]\n",
        "        else:\n",
        "            n = 1\n",
        "        yield w[p:p+n]\n",
        "        p += n"
      ],
      "execution_count": null,
      "outputs": []
    },
    {
      "metadata": {
        "id": "Cx0fk3I2dBeY",
        "colab": {
          "base_uri": "https://localhost:8080/",
          "height": 252
        },
        "outputId": "988e3752-8714-49c1-e3e2-fdc508ceafd8"
      },
      "cell_type": "code",
      "source": [
        "list(tcc(text))"
      ],
      "execution_count": null,
      "outputs": [
        {
          "output_type": "execute_result",
          "data": {
            "text/plain": [
              "['ส',\n",
              " 'วัส',\n",
              " 'ดี',\n",
              " 'ค',\n",
              " 'รับ',\n",
              " ' ',\n",
              " 'ส',\n",
              " 'บา',\n",
              " 'ย',\n",
              " 'ดี',\n",
              " 'ไห',\n",
              " 'ม',\n",
              " 'ค',\n",
              " 'รับ']"
            ]
          },
          "metadata": {
            "tags": []
          },
          "execution_count": 36
        }
      ]
    },
    {
      "metadata": {
        "id": "SCsxZk_kdMe-",
        "colab": {
          "base_uri": "https://localhost:8080/",
          "height": 34
        },
        "outputId": "bc5f5b8b-21e4-45d3-b6d0-fcbe71190b16"
      },
      "cell_type": "code",
      "source": [
        "# ตำแหน่งที่อนุญาตให้ตัดได้\n",
        "def tcc_pos(text):\n",
        "  p_set = set()\n",
        "  p = 0\n",
        "  for w in tcc(text):\n",
        "    p += len(w)\n",
        "    p_set.add(p)\n",
        "  return p_set\n",
        "\n",
        "tcc_pos(text)"
      ],
      "execution_count": null,
      "outputs": [
        {
          "output_type": "execute_result",
          "data": {
            "text/plain": [
              "{1, 4, 6, 7, 10, 11, 12, 14, 15, 17, 19, 20, 21, 24}"
            ]
          },
          "metadata": {
            "tags": []
          },
          "execution_count": 42
        }
      ]
    },
    {
      "metadata": {
        "id": "sLVEcRsweDHt"
      },
      "cell_type": "code",
      "source": [
        "def mmcut(text):\n",
        "  return list(onecut(text))"
      ],
      "execution_count": null,
      "outputs": []
    },
    {
      "metadata": {
        "id": "ZzEDlaSyeLJe",
        "colab": {
          "base_uri": "https://localhost:8080/",
          "height": 34
        },
        "outputId": "a0587b7a-3c54-47d0-b980-fdf538b96ad0"
      },
      "cell_type": "code",
      "source": [
        "# ตัวอย่างปัญหา ไม่ควร add 'จุ' เพราะไม่ตรง tcc_pos\n",
        "mmcut('จุ๋ม')"
      ],
      "execution_count": null,
      "outputs": [
        {
          "output_type": "execute_result",
          "data": {
            "text/plain": [
              "['จุ', '๋ม']"
            ]
          },
          "metadata": {
            "tags": []
          },
          "execution_count": 41
        }
      ]
    },
    {
      "metadata": {
        "id": "fD6feW2VfY6Y"
      },
      "cell_type": "code",
      "source": [
        "# แยก serialize ออกมา จะได้อ่าน code ง่ายขึ้น\n",
        "def serialize(words_at, p, p2):\n",
        "  # find path แบบ depth first\n",
        "  for w in words_at[p]:\n",
        "    p_ = p + len(w)\n",
        "    if p_== p2:\n",
        "      yield [w]\n",
        "    elif p_ < p2:\n",
        "      for path in serialize(words_at, p_, p2):\n",
        "        yield [w]+path"
      ],
      "execution_count": null,
      "outputs": []
    },
    {
      "metadata": {
        "id": "8F1FiG5Xd63b"
      },
      "cell_type": "code",
      "source": [
        "# ปรับ onecut ให้ใช้ tcc_pos\n",
        "def onecut(text):\n",
        "  words_at = defaultdict(list)  # main data structure\n",
        "  allow_pos = tcc_pos(text)\n",
        "\n",
        "  q = [0]       # min-heap queue\n",
        "  last_p = 0    # last position for yield\n",
        "  while q[0] < len(text):\n",
        "      p = heappop(q)\n",
        "\n",
        "      for w in trie.prefixes(text[p:]):\n",
        "          p_ = p + len(w)\n",
        "          if p_ in allow_pos:  # เลือกที่สอดคล้อง tcc\n",
        "            words_at[p].append(w)\n",
        "            if p_ not in q:\n",
        "              heappush(q, p_)\n",
        "\n",
        "      if len(q)==1:\n",
        "          paths = serialize(words_at, last_p, q[0])\n",
        "          for w in min(paths, key=len):\n",
        "            yield w\n",
        "          last_p = q[0]\n",
        "\n",
        "      # กรณี len(q) == 0  คือ ไม่มีใน dict\n",
        "      if len(q)==0:\n",
        "          m = pat_eng.match(text[p:])\n",
        "          if m: # อังกฤษ, เลข, ว่าง\n",
        "              i = p + m.end()\n",
        "          else: # skip น้อยที่สุด ที่เป็นไปได้\n",
        "              for i in range(p, len(text)):\n",
        "                  if i in allow_pos:   # ใช้ tcc ด้วย\n",
        "                      ww = trie.prefixes(text[i:])\n",
        "                      m = pat_eng.match(text[i:])\n",
        "                      if ww or m:\n",
        "                          break\n",
        "              else:\n",
        "                  i = len(text)\n",
        "          w = text[p:i]\n",
        "          words_at[p].append(w)\n",
        "          yield w\n",
        "          last_p = i\n",
        "          heappush(q, i)"
      ],
      "execution_count": null,
      "outputs": []
    },
    {
      "metadata": {
        "id": "SQpYZNpzjG4w",
        "colab": {
          "base_uri": "https://localhost:8080/",
          "height": 34
        },
        "outputId": "6f91e60a-9bff-45cb-8e6e-d9cd385b1eaa"
      },
      "cell_type": "code",
      "source": [
        "mmcut(text)"
      ],
      "execution_count": null,
      "outputs": [
        {
          "output_type": "execute_result",
          "data": {
            "text/plain": [
              "['สวัสดี', 'ครับ', ' ', 'สบายดี', 'ไหม', 'ครับ']"
            ]
          },
          "metadata": {
            "tags": []
          },
          "execution_count": 57
        }
      ]
    },
    {
      "metadata": {
        "id": "gNW40NoQkxfe",
        "colab": {
          "base_uri": "https://localhost:8080/",
          "height": 34
        },
        "outputId": "273ed7f6-d1d7-46b3-d7f0-4542b3920ff1"
      },
      "cell_type": "code",
      "source": [
        "mmcut('จุ๋ม')"
      ],
      "execution_count": null,
      "outputs": [
        {
          "output_type": "execute_result",
          "data": {
            "text/plain": [
              "['จุ๋ม']"
            ]
          },
          "metadata": {
            "tags": []
          },
          "execution_count": 76
        }
      ]
    },
    {
      "metadata": {
        "id": "yi4j1CWok1sk",
        "colab": {
          "base_uri": "https://localhost:8080/",
          "height": 34
        },
        "outputId": "d232ed5b-b9c1-4c07-c9f5-5050736f15cd"
      },
      "cell_type": "code",
      "source": [
        "mmcut('ไทยปน english ก็ได้นะ')"
      ],
      "execution_count": null,
      "outputs": [
        {
          "output_type": "execute_result",
          "data": {
            "text/plain": [
              "['ไทย', 'ปน', ' ', 'english', ' ', 'ก็ได้', 'นะ']"
            ]
          },
          "metadata": {
            "tags": []
          },
          "execution_count": 59
        }
      ]
    },
    {
      "metadata": {
        "id": "fL1-wFb11T3b"
      },
      "cell_type": "markdown",
      "source": [
        "# สรุปรวม\n",
        "copy code จากข้างบน เอาเฉพาะที่ใช้จริง"
      ]
    },
    {
      "metadata": {
        "id": "6ZTCdI041V5e"
      },
      "cell_type": "code",
      "source": [
        "import re\n",
        "from collections import defaultdict\n",
        "from heapq import heappush, heappop  # for priority queue\n",
        "from marisa_trie import Trie\n",
        "\n",
        "wordlist = [li.strip() for li in open('thaiword.txt')]\n",
        "trie = Trie(wordlist)\n",
        "\n",
        "# ช่วยตัดพวกภาษาอังกฤษ เป็นต้น\n",
        "pat_eng = re.compile(r'''(?x)\n",
        "[-a-zA-Z]+|   # english\n",
        "\\d[\\d,\\.]*|   # number\n",
        "[ \\t]+|       # space\n",
        "\\r?\\n         # newline\n",
        "''')"
      ],
      "execution_count": null,
      "outputs": []
    },
    {
      "metadata": {
        "id": "QIuS1Edilb1-"
      },
      "cell_type": "code",
      "source": [
        "# TCC\n",
        "pat_tcc = \"\"\"\\\n",
        "เc็c\n",
        "เcctาะ\n",
        "เccีtยะ\n",
        "เccีtย(?=[เ-ไก-ฮ]|$)\n",
        "เccอะ\n",
        "เcc็c\n",
        "เcิc์c\n",
        "เcิtc\n",
        "เcีtยะ?\n",
        "เcืtอะ?\n",
        "เc[ิีุู]tย(?=[เ-ไก-ฮ]|$)\n",
        "เctา?ะ?\n",
        "cัtวะ\n",
        "c[ัื]tc[ุิะ]?\n",
        "c[ิุู]์\n",
        "c[ะ-ู]t\n",
        "c็\n",
        "ct[ะาำ]?\n",
        "แc็c\n",
        "แcc์\n",
        "แctะ\n",
        "แcc็c\n",
        "แccc์\n",
        "โctะ\n",
        "[เ-ไ]ct\n",
        "\"\"\".replace('c','[ก-ฮ]').replace('t', '[่-๋]?').split()\n",
        "\n",
        "def tcc(w):\n",
        "    p = 0\n",
        "    pat = re.compile(\"|\".join(pat_tcc))\n",
        "    while p<len(w):\n",
        "        m = pat.match(w[p:])\n",
        "        if m:\n",
        "            n = m.span()[1]\n",
        "        else:\n",
        "            n = 1\n",
        "        yield w[p:p+n]\n",
        "        p += n\n",
        "\n",
        "def tcc_pos(text):\n",
        "    p_set = set()\n",
        "    p = 0\n",
        "    for w in tcc(text):\n",
        "        p += len(w)\n",
        "        p_set.add(p)\n",
        "    return p_set"
      ],
      "execution_count": null,
      "outputs": []
    },
    {
      "metadata": {
        "id": "zcX9oa7rl8Fr"
      },
      "cell_type": "code",
      "source": [
        "def serialize(words_at, p, p2):\n",
        "  # find path ทั้งหมด แบบ depth first\n",
        "  if p in words_at:\n",
        "    for w in words_at[p]:\n",
        "      p_ = p + len(w)\n",
        "      if p_== p2:\n",
        "        yield [w]\n",
        "      elif p_ < p2:\n",
        "        for path in serialize(words_at, p_, p2):\n",
        "          yield [w]+path"
      ],
      "execution_count": null,
      "outputs": []
    },
    {
      "metadata": {
        "id": "CS5tOC3kmjHV"
      },
      "cell_type": "code",
      "source": [
        "def onecut(text):\n",
        "  words_at = defaultdict(list)  # main data structure\n",
        "  allow_pos = tcc_pos(text)     # ตำแหน่งที่ตัด ต้องตรงกับ tcc\n",
        "\n",
        "  q = [0]       # min-heap queue\n",
        "  last_p = 0    # last position for yield\n",
        "  while q[0] < len(text):\n",
        "      p = heappop(q)\n",
        "\n",
        "      for w in trie.prefixes(text[p:]):\n",
        "          p_ = p + len(w)\n",
        "          if p_ in allow_pos:  # เลือกที่สอดคล้อง tcc\n",
        "            words_at[p].append(w)\n",
        "            if p_ not in q:\n",
        "              heappush(q, p_)\n",
        "\n",
        "      # กรณี length 1 คือ ไม่กำกวมแล้ว ส่งผลลัพธ์ก่อนนี้คืนได้\n",
        "      if len(q)==1:\n",
        "          paths = serialize(words_at, last_p, q[0])\n",
        "          for w in min(paths, key=len):\n",
        "            yield w\n",
        "          last_p = q[0]\n",
        "\n",
        "      # กรณี length 0  คือ ไม่มีใน dict\n",
        "      if len(q)==0:\n",
        "          m = pat_eng.match(text[p:])\n",
        "          if m: # อังกฤษ, เลข, ว่าง\n",
        "              i = p + m.end()\n",
        "          else: # skip น้อยที่สุด ที่เป็นไปได้\n",
        "              for i in range(p+1, len(text)):\n",
        "                  if i in allow_pos:   # ใช้ tcc ด้วย ทั้งจุดเริ่มและจบ\n",
        "                      ww = [w for w in trie.prefixes(text[i:]) if (i+len(w) in allow_pos)]\n",
        "                      m = pat_eng.match(text[i:])\n",
        "                      if ww or m:\n",
        "                          break\n",
        "              else:\n",
        "                  i = len(text)\n",
        "          w = text[p:i]\n",
        "          words_at[p].append(w)\n",
        "          yield w\n",
        "          last_p = i\n",
        "          heappush(q, i)\n",
        "\n",
        "# ช่วยให้ไม่ต้องพิมพ์ยาวๆ\n",
        "def mmcut(text):\n",
        "  return list(onecut(text))"
      ],
      "execution_count": null,
      "outputs": []
    },
    {
      "metadata": {
        "id": "iDik5nhDm52P",
        "colab": {
          "base_uri": "https://localhost:8080/",
          "height": 34
        },
        "outputId": "92a80576-76ee-4163-af87-6aa8fa793609"
      },
      "cell_type": "code",
      "source": [
        "mmcut('สวัสดีครับ')   # ทำงานได้ถูกต้อง"
      ],
      "execution_count": null,
      "outputs": [
        {
          "output_type": "execute_result",
          "data": {
            "text/plain": [
              "['สวัสดี', 'ครับ']"
            ]
          },
          "metadata": {
            "tags": []
          },
          "execution_count": 87
        }
      ]
    },
    {
      "metadata": {
        "id": "KZWT01wRnIy9",
        "colab": {
          "base_uri": "https://localhost:8080/",
          "height": 34
        },
        "outputId": "797fad26-7ba2-4f94-d77c-e22d9f9960e3"
      },
      "cell_type": "code",
      "source": [
        "mmcut('จุ๋ม')"
      ],
      "execution_count": null,
      "outputs": [
        {
          "output_type": "execute_result",
          "data": {
            "text/plain": [
              "['จุ๋ม']"
            ]
          },
          "metadata": {
            "tags": []
          },
          "execution_count": 88
        }
      ]
    },
    {
      "metadata": {
        "id": "rgRDHBONsH4m"
      },
      "cell_type": "code",
      "source": [],
      "execution_count": null,
      "outputs": []
    }
  ]
}