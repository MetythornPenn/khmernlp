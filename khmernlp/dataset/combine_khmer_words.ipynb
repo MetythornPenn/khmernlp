{
 "cells": [
  {
   "cell_type": "code",
   "execution_count": 1,
   "metadata": {},
   "outputs": [
    {
     "data": {
      "text/html": [
       "<div>\n",
       "<style scoped>\n",
       "    .dataframe tbody tr th:only-of-type {\n",
       "        vertical-align: middle;\n",
       "    }\n",
       "\n",
       "    .dataframe tbody tr th {\n",
       "        vertical-align: top;\n",
       "    }\n",
       "\n",
       "    .dataframe thead th {\n",
       "        text-align: right;\n",
       "    }\n",
       "</style>\n",
       "<table border=\"1\" class=\"dataframe\">\n",
       "  <thead>\n",
       "    <tr style=\"text-align: right;\">\n",
       "      <th></th>\n",
       "      <th>a</th>\n",
       "      <th>ʔ ee</th>\n",
       "    </tr>\n",
       "  </thead>\n",
       "  <tbody>\n",
       "    <tr>\n",
       "      <th>0</th>\n",
       "      <td>aamir</td>\n",
       "      <td>ʔ aa . m iə</td>\n",
       "    </tr>\n",
       "    <tr>\n",
       "      <th>1</th>\n",
       "      <td>aaron</td>\n",
       "      <td>ʔ aa . r o n</td>\n",
       "    </tr>\n",
       "    <tr>\n",
       "      <th>2</th>\n",
       "      <td>ab</td>\n",
       "      <td>ʔ a p</td>\n",
       "    </tr>\n",
       "    <tr>\n",
       "      <th>3</th>\n",
       "      <td>abarca</td>\n",
       "      <td>ʔ aa . ɓ aa . kh aa</td>\n",
       "    </tr>\n",
       "    <tr>\n",
       "      <th>4</th>\n",
       "      <td>abbas</td>\n",
       "      <td>ʔ aa . ɓ a h</td>\n",
       "    </tr>\n",
       "  </tbody>\n",
       "</table>\n",
       "</div>"
      ],
      "text/plain": [
       "        a                 ʔ ee\n",
       "0   aamir          ʔ aa . m iə\n",
       "1   aaron         ʔ aa . r o n\n",
       "2      ab                ʔ a p\n",
       "3  abarca  ʔ aa . ɓ aa . kh aa\n",
       "4   abbas         ʔ aa . ɓ a h"
      ]
     },
     "execution_count": 1,
     "metadata": {},
     "output_type": "execute_result"
    }
   ],
   "source": [
    "# load tsv file using pandas\n",
    "import pandas as pd\n",
    "\n",
    "# load the data\n",
    "data = pd.read_csv('./lexicon.tsv', sep='\\t')\n",
    "data.head()"
   ]
  },
  {
   "cell_type": "code",
   "execution_count": 2,
   "metadata": {},
   "outputs": [],
   "source": [
    "# convert  column \"a\" to txt file\n",
    "data['a'].to_csv('lexicon.txt', index=False, header=False)"
   ]
  },
  {
   "cell_type": "code",
   "execution_count": 6,
   "metadata": {},
   "outputs": [],
   "source": [
    "def combine_and_remove_duplicates(file1_path, file2_path, output_file_path):\n",
    "    # Read lines from both files and store them in a set to remove duplicates\n",
    "    unique_lines = set()\n",
    "\n",
    "    # Read lines from file1\n",
    "    with open(file1_path, 'r', encoding='utf-8') as file1:\n",
    "        for line in file1:\n",
    "            unique_lines.add(line.strip())\n",
    "\n",
    "    # Read lines from file2\n",
    "    with open(file2_path, 'r', encoding='utf-8') as file2:\n",
    "        for line in file2:\n",
    "            unique_lines.add(line.strip())\n",
    "\n",
    "    # Write unique lines to the output file\n",
    "    with open(output_file_path, 'w', encoding='utf-8') as output_file:\n",
    "        for line in unique_lines:\n",
    "            output_file.write(line + '\\n')\n",
    "\n",
    "# Example usage:\n",
    "file1_path = './khmer_words.txt'\n",
    "file2_path = './english_words.txt'\n",
    "output_file_path = 'khmer_english_words.txt'\n",
    "\n",
    "combine_and_remove_duplicates(file1_path, file2_path, output_file_path)\n",
    "\n"
   ]
  },
  {
   "cell_type": "code",
   "execution_count": 5,
   "metadata": {},
   "outputs": [
    {
     "name": "stderr",
     "output_type": "stream",
     "text": [
      "[nltk_data] Downloading package words to\n",
      "[nltk_data]     /Users/macbookair/nltk_data...\n",
      "[nltk_data]   Package words is already up-to-date!\n"
     ]
    }
   ],
   "source": [
    "import nltk\n",
    "nltk.download('words')\n",
    "\n",
    "def save_english_words_to_file(file_path):\n",
    "    english_words = set(nltk.corpus.words.words())\n",
    "    with open(file_path, 'w') as file:\n",
    "        for word in english_words:\n",
    "            file.write(word + '\\n')\n",
    "\n",
    "# Example usage:\n",
    "save_english_words_to_file('english_words.txt')\n",
    "\n"
   ]
  },
  {
   "cell_type": "code",
   "execution_count": null,
   "metadata": {},
   "outputs": [],
   "source": []
  }
 ],
 "metadata": {
  "kernelspec": {
   "display_name": "khmerasr",
   "language": "python",
   "name": "python3"
  },
  "language_info": {
   "codemirror_mode": {
    "name": "ipython",
    "version": 3
   },
   "file_extension": ".py",
   "mimetype": "text/x-python",
   "name": "python",
   "nbconvert_exporter": "python",
   "pygments_lexer": "ipython3",
   "version": "3.8.19"
  }
 },
 "nbformat": 4,
 "nbformat_minor": 2
}
