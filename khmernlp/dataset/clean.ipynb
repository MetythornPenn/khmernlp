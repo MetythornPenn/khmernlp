{
 "cells": [
  {
   "cell_type": "code",
   "execution_count": 1,
   "metadata": {},
   "outputs": [],
   "source": [
    "def combine_and_clean_files(file1_path, file2_path, output_path):\n",
    "    # Read contents of both files\n",
    "    with open(file1_path, 'r') as file1, open(file2_path, 'r') as file2:\n",
    "        file1_lines = file1.readlines()\n",
    "        file2_lines = file2.readlines()\n",
    "\n",
    "    # Combine the contents into a single list\n",
    "    combined_lines = file1_lines + file2_lines\n",
    "\n",
    "    # Remove duplicates and blank lines\n",
    "    unique_lines = set()\n",
    "    for line in combined_lines:\n",
    "        line = line.strip()\n",
    "        if line:\n",
    "            unique_lines.add(line)\n",
    "\n",
    "    # Sort the unique lines alphabetically\n",
    "    sorted_lines = sorted(unique_lines)\n",
    "\n",
    "    # Write the sorted and cleaned content to a new file\n",
    "    with open(output_path, 'w') as output_file:\n",
    "        for line in sorted_lines:\n",
    "            output_file.write(line + '\\n')\n",
    "\n",
    "# Example usage:\n",
    "file1_path = './tokenize/SBBICkm_KH.txt'\n",
    "file2_path = './tokenize/khmer_words.txt'\n",
    "output_path = 'output.txt'\n",
    "combine_and_clean_files(file1_path, file2_path, output_path)\n"
   ]
  },
  {
   "cell_type": "code",
   "execution_count": null,
   "metadata": {},
   "outputs": [],
   "source": []
  }
 ],
 "metadata": {
  "kernelspec": {
   "display_name": "khmerasr",
   "language": "python",
   "name": "python3"
  },
  "language_info": {
   "codemirror_mode": {
    "name": "ipython",
    "version": 3
   },
   "file_extension": ".py",
   "mimetype": "text/x-python",
   "name": "python",
   "nbconvert_exporter": "python",
   "pygments_lexer": "ipython3",
   "version": "3.10.14"
  }
 },
 "nbformat": 4,
 "nbformat_minor": 2
}
