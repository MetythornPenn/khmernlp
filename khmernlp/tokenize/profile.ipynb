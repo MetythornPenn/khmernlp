{
  "nbformat": 4,
  "nbformat_minor": 0,
  "metadata": {
    "colab": {
      "provenance": [],
      "collapsed_sections": [
        "xNxBoIwvuk1G",
        "5kCLAhv_wwwD",
        "fqJkz0fF2ZC1",
        "SPE2wcwI6WI8",
        "7LpEpbkD7rBI",
        "oRKeSmkYELmi"
      ]
    },
    "kernelspec": {
      "name": "python3",
      "display_name": "Python 3"
    }
  },
  "cells": [
    {
      "metadata": {
        "id": "pfcGbWvguYZX"
      },
      "cell_type": "markdown",
      "source": [
        "# หัดใช้ profile module"
      ]
    },
    {
      "metadata": {
        "id": "xNxBoIwvuk1G"
      },
      "cell_type": "markdown",
      "source": [
        "## Python 102\n",
        "บทความสอน [cProfile](https://www.blog.pythonlibrary.org/2014/03/20/python-102-how-to-profile-your-code/)"
      ]
    },
    {
      "metadata": {
        "id": "e9GJZiX5s7FE"
      },
      "cell_type": "code",
      "source": [
        "import hashlib\n",
        "import random, re\n",
        "from collections import Counter\n",
        "import cProfile"
      ],
      "execution_count": null,
      "outputs": []
    },
    {
      "metadata": {
        "id": "-4Rrzxefuz01",
        "colab": {
          "base_uri": "https://localhost:8080/",
          "height": 239
        },
        "outputId": "fb89ac87-5fc3-4abe-9699-28d0061f50f8"
      },
      "cell_type": "code",
      "source": [
        "cProfile.run(\"hashlib.md5(b'abcdefghijkl').digest()\")"
      ],
      "execution_count": null,
      "outputs": [
        {
          "output_type": "stream",
          "text": [
            "         5 function calls in 0.000 seconds\n",
            "\n",
            "   Ordered by: standard name\n",
            "\n",
            "   ncalls  tottime  percall  cumtime  percall filename:lineno(function)\n",
            "        1    0.000    0.000    0.000    0.000 <string>:1(<module>)\n",
            "        1    0.000    0.000    0.000    0.000 {built-in method _hashlib.openssl_md5}\n",
            "        1    0.000    0.000    0.000    0.000 {built-in method builtins.exec}\n",
            "        1    0.000    0.000    0.000    0.000 {method 'digest' of '_hashlib.HASH' objects}\n",
            "        1    0.000    0.000    0.000    0.000 {method 'disable' of '_lsprof.Profiler' objects}\n",
            "\n",
            "\n"
          ],
          "name": "stdout"
        }
      ]
    },
    {
      "metadata": {
        "id": "aHxVEukdu003"
      },
      "cell_type": "code",
      "source": [
        "import time\n",
        "\n",
        "def fast():\n",
        "    \"\"\"\"\"\"\n",
        "    print(\"I run fast!\")\n",
        "\n",
        "def slow():\n",
        "    \"\"\"\"\"\"\n",
        "    time.sleep(3)\n",
        "    print(\"I run slow!\")\n",
        "\n",
        "def medium():\n",
        "    \"\"\"\"\"\"\n",
        "    time.sleep(0.5)\n",
        "    print(\"I run a little slowly...\")\n",
        "\n",
        "def main():\n",
        "    \"\"\"\"\"\"\n",
        "    fast()\n",
        "    slow()\n",
        "    medium()"
      ],
      "execution_count": null,
      "outputs": []
    },
    {
      "metadata": {
        "id": "0fvWkr9RvwUi",
        "colab": {
          "base_uri": "https://localhost:8080/",
          "height": 558
        },
        "outputId": "762810b4-87f9-4b33-c787-102231277863"
      },
      "cell_type": "code",
      "source": [
        "cProfile.run(\"main()\")"
      ],
      "execution_count": null,
      "outputs": [
        {
          "output_type": "stream",
          "text": [
            "I run fast!\n",
            "I run slow!\n",
            "I run a little slowly...\n",
            "         105 function calls in 3.509 seconds\n",
            "\n",
            "   Ordered by: standard name\n",
            "\n",
            "   ncalls  tottime  percall  cumtime  percall filename:lineno(function)\n",
            "        1    0.000    0.000    0.501    0.501 <ipython-input-3-0f18e5e566c3>:12(medium)\n",
            "        1    0.000    0.000    3.509    3.509 <ipython-input-3-0f18e5e566c3>:17(main)\n",
            "        1    0.000    0.000    0.005    0.005 <ipython-input-3-0f18e5e566c3>:3(fast)\n",
            "        1    0.000    0.000    3.003    3.003 <ipython-input-3-0f18e5e566c3>:7(slow)\n",
            "        1    0.000    0.000    3.509    3.509 <string>:1(<module>)\n",
            "        9    0.005    0.001    0.005    0.001 iostream.py:180(schedule)\n",
            "        6    0.000    0.000    0.000    0.000 iostream.py:284(_is_master_process)\n",
            "        6    0.000    0.000    0.000    0.000 iostream.py:297(_schedule_flush)\n",
            "        6    0.000    0.000    0.005    0.001 iostream.py:342(write)\n",
            "        9    0.000    0.000    0.000    0.000 iostream.py:87(_event_pipe)\n",
            "        9    0.000    0.000    0.000    0.000 threading.py:1062(_wait_for_tstate_lock)\n",
            "        9    0.000    0.000    0.000    0.000 threading.py:1104(is_alive)\n",
            "        9    0.000    0.000    0.000    0.000 threading.py:506(is_set)\n",
            "        1    0.000    0.000    3.509    3.509 {built-in method builtins.exec}\n",
            "        6    0.000    0.000    0.000    0.000 {built-in method builtins.isinstance}\n",
            "        3    0.000    0.000    0.005    0.002 {built-in method builtins.print}\n",
            "        6    0.000    0.000    0.000    0.000 {built-in method posix.getpid}\n",
            "        9    0.000    0.000    0.000    0.000 {built-in method posix.urandom}\n",
            "        2    3.504    1.752    3.504    1.752 {built-in method time.sleep}\n",
            "        9    0.000    0.000    0.000    0.000 {method 'acquire' of '_thread.lock' objects}\n",
            "        1    0.000    0.000    0.000    0.000 {method 'disable' of '_lsprof.Profiler' objects}\n",
            "\n",
            "\n"
          ],
          "name": "stdout"
        }
      ]
    },
    {
      "metadata": {
        "id": "5kCLAhv_wwwD"
      },
      "cell_type": "markdown",
      "source": [
        "## A look analytics\n",
        "[บทความ](https://blog.alookanalytics.com/2017/03/21/python-profiling-basics/)"
      ]
    },
    {
      "metadata": {
        "id": "vhJFOyxJv1-9",
        "colab": {
          "base_uri": "https://localhost:8080/",
          "height": 323
        },
        "outputId": "768eb19f-6866-4ba6-b5ef-1414be80c68d"
      },
      "cell_type": "code",
      "source": [
        "pr = cProfile.Profile()\n",
        "pr.enable()\n",
        "\n",
        "# call_function()\n",
        "\n",
        "pr.disable()\n",
        "\n",
        "pr.print_stats(sort='time')"
      ],
      "execution_count": null,
      "outputs": [
        {
          "output_type": "stream",
          "text": [
            "         10 function calls in 0.000 seconds\n",
            "\n",
            "   Ordered by: internal time\n",
            "\n",
            "   ncalls  tottime  percall  cumtime  percall filename:lineno(function)\n",
            "        1    0.000    0.000    0.000    0.000 {built-in method builtins.compile}\n",
            "        1    0.000    0.000    0.000    0.000 interactiveshell.py:2852(run_code)\n",
            "        1    0.000    0.000    0.000    0.000 codeop.py:132(__call__)\n",
            "        1    0.000    0.000    0.000    0.000 <ipython-input-5-f7bc752c1c70>:6(<module>)\n",
            "        1    0.000    0.000    0.000    0.000 {built-in method builtins.exec}\n",
            "        1    0.000    0.000    0.000    0.000 {method 'disable' of '_lsprof.Profiler' objects}\n",
            "        1    0.000    0.000    0.000    0.000 hooks.py:139(__call__)\n",
            "        1    0.000    0.000    0.000    0.000 interactiveshell.py:1067(user_global_ns)\n",
            "        1    0.000    0.000    0.000    0.000 hooks.py:204(pre_run_code_hook)\n",
            "        1    0.000    0.000    0.000    0.000 ipstruct.py:125(__getattr__)\n",
            "\n",
            "\n"
          ],
          "name": "stdout"
        }
      ]
    },
    {
      "metadata": {
        "id": "6GqZ9Tf-xazN"
      },
      "cell_type": "code",
      "source": [
        "data = [random.randint(0, 99) for p in range(0, 10000000)]"
      ],
      "execution_count": null,
      "outputs": []
    },
    {
      "metadata": {
        "id": "UXMO9JFgxzw8",
        "colab": {
          "base_uri": "https://localhost:8080/",
          "height": 54
        },
        "outputId": "544fed87-2498-49aa-9f2e-ec1964577502"
      },
      "cell_type": "code",
      "source": [
        "len(data)"
      ],
      "execution_count": null,
      "outputs": [
        {
          "output_type": "execute_result",
          "data": {
            "text/plain": [
              "10000000"
            ]
          },
          "metadata": {
            "tags": []
          },
          "execution_count": 7
        }
      ]
    },
    {
      "metadata": {
        "id": "J5XbnIcT16aG"
      },
      "cell_type": "markdown",
      "source": [
        "### ใช้ dict"
      ]
    },
    {
      "metadata": {
        "id": "52YcUZx3x0-M"
      },
      "cell_type": "code",
      "source": [
        "def calculate_occurences_list(data):\n",
        "\n",
        "    result = {}\n",
        "    for i in range(0, 100):\n",
        "        result[i] = 0\n",
        "\n",
        "    for element in data:\n",
        "        result[element] += 1\n",
        "\n",
        "    return result"
      ],
      "execution_count": null,
      "outputs": []
    },
    {
      "metadata": {
        "id": "hWgrd8Fo0zUs",
        "colab": {
          "base_uri": "https://localhost:8080/",
          "height": 356
        },
        "outputId": "5227f2e1-fddd-424c-8900-54ae0cf2c7c8"
      },
      "cell_type": "code",
      "source": [
        "pr = cProfile.Profile()\n",
        "pr.enable()\n",
        "\n",
        "calculate_occurences_list(data)\n",
        "\n",
        "pr.disable()\n",
        "pr.print_stats(sort='time')"
      ],
      "execution_count": null,
      "outputs": [
        {
          "output_type": "stream",
          "text": [
            "         20 function calls in 0.957 seconds\n",
            "\n",
            "   Ordered by: internal time\n",
            "\n",
            "   ncalls  tottime  percall  cumtime  percall filename:lineno(function)\n",
            "        1    0.957    0.957    0.957    0.957 <ipython-input-8-faba46ebb883>:1(calculate_occurences_list)\n",
            "        2    0.000    0.000    0.000    0.000 {built-in method builtins.compile}\n",
            "        2    0.000    0.000    0.957    0.479 interactiveshell.py:2852(run_code)\n",
            "        2    0.000    0.000    0.000    0.000 codeop.py:132(__call__)\n",
            "        1    0.000    0.000    0.957    0.957 <ipython-input-9-11b97b1b504c>:4(<module>)\n",
            "        2    0.000    0.000    0.957    0.479 {built-in method builtins.exec}\n",
            "        1    0.000    0.000    0.000    0.000 <ipython-input-9-11b97b1b504c>:6(<module>)\n",
            "        2    0.000    0.000    0.000    0.000 hooks.py:139(__call__)\n",
            "        2    0.000    0.000    0.000    0.000 ipstruct.py:125(__getattr__)\n",
            "        2    0.000    0.000    0.000    0.000 interactiveshell.py:1067(user_global_ns)\n",
            "        1    0.000    0.000    0.000    0.000 {method 'disable' of '_lsprof.Profiler' objects}\n",
            "        2    0.000    0.000    0.000    0.000 hooks.py:204(pre_run_code_hook)\n",
            "\n",
            "\n"
          ],
          "name": "stdout"
        }
      ]
    },
    {
      "metadata": {
        "id": "SSwlPaUE12pu"
      },
      "cell_type": "markdown",
      "source": [
        "### ใช้ Counter"
      ]
    },
    {
      "metadata": {
        "id": "5aVijURg1MNM",
        "colab": {
          "base_uri": "https://localhost:8080/",
          "height": 474
        },
        "outputId": "75f78f94-bd0b-489d-c90e-179434bed864"
      },
      "cell_type": "code",
      "source": [
        "pr = cProfile.Profile()\n",
        "pr.enable()\n",
        "\n",
        "Counter(data).items()\n",
        "\n",
        "pr.disable()\n",
        "pr.print_stats(sort='time')"
      ],
      "execution_count": null,
      "outputs": [
        {
          "output_type": "stream",
          "text": [
            "         29 function calls in 0.631 seconds\n",
            "\n",
            "   Ordered by: internal time\n",
            "\n",
            "   ncalls  tottime  percall  cumtime  percall filename:lineno(function)\n",
            "        1    0.630    0.630    0.630    0.630 {built-in method _collections._count_elements}\n",
            "        1    0.000    0.000    0.631    0.631 __init__.py:586(update)\n",
            "        2    0.000    0.000    0.000    0.000 {built-in method builtins.compile}\n",
            "        2    0.000    0.000    0.631    0.315 interactiveshell.py:2852(run_code)\n",
            "        1    0.000    0.000    0.631    0.631 <ipython-input-10-fadca3c512a0>:4(<module>)\n",
            "        2    0.000    0.000    0.000    0.000 codeop.py:132(__call__)\n",
            "        1    0.000    0.000    0.631    0.631 __init__.py:517(__init__)\n",
            "        1    0.000    0.000    0.000    0.000 abc.py:178(__instancecheck__)\n",
            "        1    0.000    0.000    0.000    0.000 <ipython-input-10-fadca3c512a0>:6(<module>)\n",
            "        2    0.000    0.000    0.000    0.000 hooks.py:139(__call__)\n",
            "        2    0.000    0.000    0.000    0.000 ipstruct.py:125(__getattr__)\n",
            "        2    0.000    0.000    0.631    0.315 {built-in method builtins.exec}\n",
            "        2    0.000    0.000    0.000    0.000 _weakrefset.py:70(__contains__)\n",
            "        1    0.000    0.000    0.000    0.000 {built-in method builtins.isinstance}\n",
            "        2    0.000    0.000    0.000    0.000 interactiveshell.py:1067(user_global_ns)\n",
            "        1    0.000    0.000    0.000    0.000 {method 'items' of 'dict' objects}\n",
            "        2    0.000    0.000    0.000    0.000 {built-in method builtins.len}\n",
            "        1    0.000    0.000    0.000    0.000 {method 'disable' of '_lsprof.Profiler' objects}\n",
            "        2    0.000    0.000    0.000    0.000 hooks.py:204(pre_run_code_hook)\n",
            "\n",
            "\n"
          ],
          "name": "stdout"
        }
      ]
    },
    {
      "metadata": {
        "id": "fqJkz0fF2ZC1"
      },
      "cell_type": "markdown",
      "source": [
        "## Context manager\n",
        "ช่วยให้ call ง่ายขึ้น"
      ]
    },
    {
      "metadata": {
        "id": "v6bv4-ru2Zh2"
      },
      "cell_type": "code",
      "source": [
        "import contextlib\n",
        "\n",
        "@contextlib.contextmanager\n",
        "def profile(*args, **kwargs):\n",
        "    profile = cProfile.Profile(*args, **kwargs)\n",
        "    profile.enable()\n",
        "    yield\n",
        "    profile.disable()\n",
        "    profile.print_stats(sort='time')"
      ],
      "execution_count": null,
      "outputs": []
    },
    {
      "metadata": {
        "id": "1vbM19RX2tw6",
        "colab": {
          "base_uri": "https://localhost:8080/",
          "height": 356
        },
        "outputId": "9e8219d4-016a-4d67-d042-ace950054ca0"
      },
      "cell_type": "code",
      "source": [
        "with profile():\n",
        "  Counter(data).items()"
      ],
      "execution_count": null,
      "outputs": [
        {
          "output_type": "stream",
          "text": [
            "         14 function calls in 0.644 seconds\n",
            "\n",
            "   Ordered by: internal time\n",
            "\n",
            "   ncalls  tottime  percall  cumtime  percall filename:lineno(function)\n",
            "        1    0.643    0.643    0.643    0.643 {built-in method _collections._count_elements}\n",
            "        1    0.001    0.001    0.644    0.644 __init__.py:586(update)\n",
            "        1    0.000    0.000    0.644    0.644 __init__.py:517(__init__)\n",
            "        1    0.000    0.000    0.000    0.000 contextlib.py:85(__exit__)\n",
            "        1    0.000    0.000    0.000    0.000 abc.py:178(__instancecheck__)\n",
            "        2    0.000    0.000    0.000    0.000 _weakrefset.py:70(__contains__)\n",
            "        1    0.000    0.000    0.000    0.000 {built-in method builtins.isinstance}\n",
            "        1    0.000    0.000    0.000    0.000 <ipython-input-11-6f04be3c0b85>:3(profile)\n",
            "        1    0.000    0.000    0.000    0.000 {method 'items' of 'dict' objects}\n",
            "        2    0.000    0.000    0.000    0.000 {built-in method builtins.len}\n",
            "        1    0.000    0.000    0.000    0.000 {built-in method builtins.next}\n",
            "        1    0.000    0.000    0.000    0.000 {method 'disable' of '_lsprof.Profiler' objects}\n",
            "\n",
            "\n"
          ],
          "name": "stdout"
        }
      ]
    },
    {
      "metadata": {
        "id": "ZGjlwRS34jje"
      },
      "cell_type": "markdown",
      "source": [
        "# Test ตัดคำ\n",
        "ดูว่า onecut ช้ากว่า multicut เพราะอะไร เดาว่า เพราะ list ช้ากว่า string และยังเป็น depth first อยู่ น่าจะปรับเป็น breadth first แทน"
      ]
    },
    {
      "metadata": {
        "id": "75N8LTHB70ge",
        "colab": {
          "base_uri": "https://localhost:8080/",
          "height": 54
        },
        "outputId": "fc064503-f7c9-4b0d-9138-67e3178cf1e8"
      },
      "cell_type": "code",
      "source": [
        "!pip install -q marisa_trie\n",
        "!wget -nv https://github.com/PyThaiNLP/pythainlp/raw/dev/pythainlp/corpus/thaiword.txt"
      ],
      "execution_count": null,
      "outputs": [
        {
          "output_type": "stream",
          "text": [
            "2018-02-03 12:38:14 URL:https://raw.githubusercontent.com/PyThaiNLP/pythainlp/dev/pythainlp/corpus/thaiword.txt [1245519/1245519] -> \"thaiword.txt\" [1]\r\n"
          ],
          "name": "stdout"
        }
      ]
    },
    {
      "metadata": {
        "id": "UhYKyeza7tqF"
      },
      "cell_type": "code",
      "source": [
        "import re\n",
        "from collections import defaultdict\n",
        "from heapq import heappush, heappop  # for priority queue\n",
        "from marisa_trie import Trie\n",
        "\n",
        "wordlist = [li.strip() for li in open('thaiword.txt')]\n",
        "trie = Trie(wordlist)\n",
        "\n",
        "# ช่วยตัดพวกภาษาอังกฤษ เป็นต้น\n",
        "pat_eng = re.compile(r'''(?x)\n",
        "[-a-zA-Z]+|   # english\n",
        "\\d[\\d,\\.]*|   # number\n",
        "[ \\t]+|       # space\n",
        "\\r?\\n         # newline\n",
        "''')"
      ],
      "execution_count": null,
      "outputs": []
    },
    {
      "metadata": {
        "id": "1-6Iv4KW2-3l"
      },
      "cell_type": "code",
      "source": [
        "# TCC\n",
        "pat_tcc = \"\"\"\\\n",
        "เc็c\n",
        "เcctาะ\n",
        "เccีtยะ\n",
        "เccีtย(?=[เ-ไก-ฮ]|$)\n",
        "เccอะ\n",
        "เcc็c\n",
        "เcิc์c\n",
        "เcิtc\n",
        "เcีtยะ?\n",
        "เcืtอะ?\n",
        "เc[ิีุู]tย(?=[เ-ไก-ฮ]|$)\n",
        "เctา?ะ?\n",
        "cัtวะ\n",
        "c[ัื]tc[ุิะ]?\n",
        "c[ิุู]์\n",
        "c[ะ-ู]t\n",
        "c็\n",
        "ct[ะาำ]?\n",
        "แc็c\n",
        "แcc์\n",
        "แctะ\n",
        "แcc็c\n",
        "แccc์\n",
        "โctะ\n",
        "[เ-ไ]ct\n",
        "\"\"\".replace('c','[ก-ฮ]').replace('t', '[่-๋]?').split()\n",
        "\n",
        "def tcc(w):\n",
        "    p = 0\n",
        "    pat = re.compile(\"|\".join(pat_tcc))\n",
        "    while p<len(w):\n",
        "        m = pat.match(w[p:])\n",
        "        if m:\n",
        "            n = m.end()\n",
        "        else:\n",
        "            n = 1\n",
        "        yield w[p:p+n]\n",
        "        p += n\n",
        "\n",
        "def tcc_pos(text):\n",
        "    p_set = set()\n",
        "    p = 0\n",
        "    for w in tcc(text):\n",
        "        p += len(w)\n",
        "        p_set.add(p)\n",
        "    return p_set"
      ],
      "execution_count": null,
      "outputs": []
    },
    {
      "metadata": {
        "id": "HOpH7hhX6oYn"
      },
      "cell_type": "code",
      "source": [
        "def serialize(words_at, p, p2):\n",
        "  # find path ทั้งหมด แบบ depth first\n",
        "  if p in words_at:\n",
        "    for w in words_at[p]:\n",
        "      p_ = p + len(w)\n",
        "      if p_== p2:\n",
        "        yield [w]\n",
        "      elif p_ < p2:\n",
        "        for path in serialize(words_at, p_, p2):\n",
        "          yield [w]+path"
      ],
      "execution_count": null,
      "outputs": []
    },
    {
      "metadata": {
        "id": "2Oq9fPbM7hRP"
      },
      "cell_type": "code",
      "source": [
        "def onecut(text):\n",
        "  global words_at, graph\n",
        "  words_at = defaultdict(list)  # main data structure\n",
        "  # graph = defaultdict(list)\n",
        "  allow_pos = tcc_pos(text)     # ตำแหน่งที่ตัด ต้องตรงกับ tcc\n",
        "\n",
        "  q = [0]       # min-heap queue\n",
        "  last_p = 0    # last position for yield\n",
        "  while q[0] < len(text):\n",
        "      p = heappop(q)\n",
        "\n",
        "      for w in trie.prefixes(text[p:]):\n",
        "          p_ = p + len(w)\n",
        "          if p_ in allow_pos:  # เลือกที่สอดคล้อง tcc\n",
        "            words_at[p].append(w)\n",
        "            if p_ not in q:\n",
        "              heappush(q, p_)\n",
        "\n",
        "      # กรณี length 1 คือ ไม่กำกวมแล้ว ส่งผลลัพธ์ก่อนนี้คืนได้\n",
        "      if len(q)==1:\n",
        "          paths = serialize(words_at, last_p, q[0])\n",
        "          for w in min(paths, key=len):\n",
        "            yield w\n",
        "          last_p = q[0]\n",
        "\n",
        "      # กรณี length 0  คือ ไม่มีใน dict\n",
        "      if len(q)==0:\n",
        "          m = pat_eng.match(text[p:])\n",
        "          if m: # อังกฤษ, เลข, ว่าง\n",
        "              i = p + m.end()\n",
        "          else: # skip น้อยที่สุด ที่เป็นไปได้\n",
        "              for i in range(p+1, len(text)):\n",
        "                  if i in allow_pos:   # ใช้ tcc ด้วย\n",
        "                      ww = trie.prefixes(text[i:])\n",
        "                      m = pat_eng.match(text[i:])\n",
        "                      if ww or m:\n",
        "                          break\n",
        "              else:\n",
        "                  i = len(text)\n",
        "          w = text[p:i]\n",
        "          words_at[p].append(w)\n",
        "          yield w\n",
        "          last_p = i\n",
        "          heappush(q, i)\n",
        "\n",
        "# ช่วยให้ไม่ต้องพิมพ์ยาวๆ\n",
        "def mmcut(text):\n",
        "  return list(onecut(text))"
      ],
      "execution_count": null,
      "outputs": []
    },
    {
      "metadata": {
        "id": "Pv8ipSpJ8pte",
        "colab": {
          "base_uri": "https://localhost:8080/",
          "height": 1227
        },
        "outputId": "12417029-e67e-4f40-d886-fa96cf86e8c5"
      },
      "cell_type": "code",
      "source": [
        "text = 'สวัสดีครับ สบายดีไหมครับ จะไปเที่ยวที่ไหนดี'\n",
        "with profile():\n",
        "  mmcut(text)"
      ],
      "execution_count": null,
      "outputs": [
        {
          "output_type": "stream",
          "text": [
            "         5373 function calls (5229 primitive calls) in 0.005 seconds\n",
            "\n",
            "   Ordered by: internal time\n",
            "\n",
            "   ncalls  tottime  percall  cumtime  percall filename:lineno(function)\n",
            "       66    0.001    0.000    0.001    0.000 sre_compile.py:250(_optimize_charset)\n",
            "    29/25    0.001    0.000    0.002    0.000 sre_parse.py:470(_parse)\n",
            "     53/1    0.000    0.000    0.003    0.003 sre_compile.py:64(_compile)\n",
            "      446    0.000    0.000    0.000    0.000 sre_parse.py:232(__next)\n",
            "       53    0.000    0.000    0.000    0.000 sre_parse.py:111(__init__)\n",
            "      313    0.000    0.000    0.000    0.000 sre_parse.py:163(__getitem__)\n",
            "     1170    0.000    0.000    0.000    0.000 {method 'append' of 'list' objects}\n",
            "      212    0.000    0.000    0.000    0.000 {method 'find' of 'bytearray' objects}\n",
            "1076/1052    0.000    0.000    0.000    0.000 {built-in method builtins.len}\n",
            "       66    0.000    0.000    0.002    0.000 sre_compile.py:223(_compile_charset)\n",
            "      352    0.000    0.000    0.000    0.000 sre_parse.py:253(get)\n",
            "    68/22    0.000    0.000    0.000    0.000 sre_parse.py:173(getwidth)\n",
            "       12    0.000    0.000    0.005    0.000 <ipython-input-17-e156b940e186>:1(onecut)\n",
            "       19    0.000    0.000    0.000    0.000 {method 'prefixes' of 'marisa_trie.Trie' objects}\n",
            "      320    0.000    0.000    0.000    0.000 {built-in method builtins.isinstance}\n",
            "       21    0.000    0.000    0.000    0.000 sre_compile.py:388(_simple)\n",
            "      198    0.000    0.000    0.000    0.000 sre_parse.py:248(match)\n",
            "      3/1    0.000    0.000    0.002    0.002 sre_parse.py:407(_parse_sub)\n",
            "      129    0.000    0.000    0.000    0.000 {built-in method builtins.min}\n",
            "      125    0.000    0.000    0.000    0.000 sre_parse.py:171(append)\n",
            "       92    0.000    0.000    0.000    0.000 sre_parse.py:285(tell)\n",
            "        1    0.000    0.000    0.005    0.005 re.py:286(_compile)\n",
            "      193    0.000    0.000    0.000    0.000 {built-in method builtins.ord}\n",
            "       24    0.000    0.000    0.005    0.000 <ipython-input-15-4dffffb4ddac>:28(tcc)\n",
            "       96    0.000    0.000    0.000    0.000 sre_parse.py:159(__len__)\n",
            "    39/23    0.000    0.000    0.000    0.000 <ipython-input-16-36b074a5fb00>:1(serialize)\n",
            "       25    0.000    0.000    0.000    0.000 {method 'match' of '_sre.SRE_Pattern' objects}\n",
            "        1    0.000    0.000    0.000    0.000 sre_compile.py:441(_get_charset_prefix)\n",
            "        1    0.000    0.000    0.005    0.005 <ipython-input-15-4dffffb4ddac>:40(tcc_pos)\n",
            "        1    0.000    0.000    0.005    0.005 sre_compile.py:557(compile)\n",
            "       23    0.000    0.000    0.000    0.000 {method 'add' of 'set' objects}\n",
            "        1    0.000    0.000    0.000    0.000 sre_compile.py:381(_bytes_to_codes)\n",
            "        1    0.000    0.000    0.005    0.005 <ipython-input-17-e156b940e186>:47(mmcut)\n",
            "        1    0.000    0.000    0.000    0.000 {built-in method _sre.compile}\n",
            "        1    0.000    0.000    0.000    0.000 sre_compile.py:378(<listcomp>)\n",
            "        1    0.000    0.000    0.000    0.000 sre_compile.py:376(_mk_bitmap)\n",
            "        1    0.000    0.000    0.000    0.000 sre_compile.py:482(_compile_info)\n",
            "        1    0.000    0.000    0.002    0.002 sre_parse.py:844(parse)\n",
            "       19    0.000    0.000    0.000    0.000 {built-in method _heapq.heappush}\n",
            "       21    0.000    0.000    0.000    0.000 sre_parse.py:167(__setitem__)\n",
            "       19    0.000    0.000    0.000    0.000 {built-in method _heapq.heappop}\n",
            "        1    0.000    0.000    0.000    0.000 <ipython-input-11-6f04be3c0b85>:3(profile)\n",
            "        2    0.000    0.000    0.000    0.000 enum.py:801(__and__)\n",
            "       23    0.000    0.000    0.000    0.000 {method 'end' of '_sre.SRE_Match' objects}\n",
            "        4    0.000    0.000    0.000    0.000 enum.py:515(__new__)\n",
            "        4    0.000    0.000    0.000    0.000 enum.py:265(__call__)\n",
            "        1    0.000    0.000    0.000    0.000 {method 'cast' of 'memoryview' objects}\n",
            "       25    0.000    0.000    0.000    0.000 {built-in method builtins.max}\n",
            "        1    0.000    0.000    0.003    0.003 sre_compile.py:542(_code)\n",
            "        1    0.000    0.000    0.000    0.000 sre_parse.py:223(__init__)\n",
            "        1    0.000    0.000    0.000    0.000 {method 'join' of 'str' objects}\n",
            "        1    0.000    0.000    0.000    0.000 contextlib.py:85(__exit__)\n",
            "        2    0.000    0.000    0.000    0.000 sre_compile.py:539(isstring)\n",
            "        1    0.000    0.000    0.000    0.000 sre_parse.py:76(__init__)\n",
            "        2    0.000    0.000    0.000    0.000 sre_parse.py:81(groups)\n",
            "        1    0.000    0.000    0.000    0.000 sre_parse.py:828(fix_flags)\n",
            "        1    0.000    0.000    0.000    0.000 {method 'translate' of 'bytearray' objects}\n",
            "        1    0.000    0.000    0.000    0.000 {method 'extend' of 'list' objects}\n",
            "        2    0.000    0.000    0.000    0.000 {method 'get' of 'dict' objects}\n",
            "        1    0.000    0.000    0.000    0.000 {method 'tolist' of 'memoryview' objects}\n",
            "        1    0.000    0.000    0.000    0.000 {built-in method builtins.next}\n",
            "        1    0.000    0.000    0.000    0.000 {method 'disable' of '_lsprof.Profiler' objects}\n",
            "        1    0.000    0.000    0.000    0.000 sre_compile.py:414(_get_literal_prefix)\n",
            "        1    0.000    0.000    0.000    0.000 {method 'items' of 'dict' objects}\n",
            "        1    0.000    0.000    0.005    0.005 re.py:231(compile)\n",
            "\n",
            "\n"
          ],
          "name": "stdout"
        }
      ]
    },
    {
      "metadata": {
        "id": "MAsD4ZJX9Yeg",
        "colab": {
          "base_uri": "https://localhost:8080/",
          "height": 34
        },
        "outputId": "d2cdfdc2-cbbd-4d3c-ac23-e62b8ef89be7"
      },
      "cell_type": "code",
      "source": [
        "%%timeit\n",
        "mmcut(text)"
      ],
      "execution_count": null,
      "outputs": [
        {
          "output_type": "stream",
          "text": [
            "10000 loops, best of 3: 124 µs per loop\n"
          ],
          "name": "stdout"
        }
      ]
    },
    {
      "metadata": {
        "id": "1hEWTDjJ8vLI",
        "colab": {
          "base_uri": "https://localhost:8080/",
          "height": 353
        },
        "outputId": "909ceb45-2235-400e-e817-b329817ffb1f"
      },
      "cell_type": "code",
      "source": [
        "words_at"
      ],
      "execution_count": null,
      "outputs": [
        {
          "output_type": "execute_result",
          "data": {
            "text/plain": [
              "defaultdict(list,\n",
              "            {0: ['ส', 'สวัสดี'],\n",
              "             1: [],\n",
              "             6: ['ครับ'],\n",
              "             10: [' '],\n",
              "             11: ['ส', 'สบาย', 'สบายดี'],\n",
              "             12: ['บา', 'บาย'],\n",
              "             14: [],\n",
              "             15: ['ดี'],\n",
              "             17: ['ไห', 'ไหม'],\n",
              "             19: [],\n",
              "             20: ['ครับ'],\n",
              "             24: [' '],\n",
              "             25: ['จะ'],\n",
              "             27: ['ไป', 'ไปเที่ยว'],\n",
              "             29: ['เที่ยว'],\n",
              "             35: ['ที่', 'ที่ไหน'],\n",
              "             38: ['ไห', 'ไหน'],\n",
              "             40: ['น'],\n",
              "             41: ['ดี']})"
            ]
          },
          "metadata": {
            "tags": []
          },
          "execution_count": 20
        }
      ]
    },
    {
      "metadata": {
        "id": "nqFp4NnL9Ak7"
      },
      "cell_type": "markdown",
      "source": [
        "## เปรียบเทียบ serialize\n",
        "serialize แบบไหนเร็ว/ช้า"
      ]
    },
    {
      "metadata": {
        "id": "GFq9yrEL-oyZ"
      },
      "cell_type": "markdown",
      "source": [
        "## Breadth First Search\n",
        "จะได้ตัวสั้นสุดโดยไม่ต้องมา sort ใหม่ เอาตัวอย่างจาก [เว็บนี้](http://eddmann.com/posts/depth-first-search-and-breadth-first-search-in-python/)"
      ]
    },
    {
      "metadata": {
        "id": "qxmmpT968wuS"
      },
      "cell_type": "code",
      "source": [
        "def bfs_paths(graph, start, goal):\n",
        "    queue = [(start, [start])]\n",
        "    while queue:\n",
        "        (vertex, path) = queue.pop(0)\n",
        "        for next in graph[vertex] - set(path):\n",
        "            if next == goal:\n",
        "                yield path + [next]\n",
        "            else:\n",
        "                queue.append((next, path + [next]))\n",
        "\n",
        "# list(bfs_paths(graph, 'A', 'F'))"
      ],
      "execution_count": null,
      "outputs": []
    },
    {
      "metadata": {
        "id": "KvwPYPyj_N-c"
      },
      "cell_type": "code",
      "source": [
        "def bfs_paths(words_at, start, goal):\n",
        "  queue = [(start, [start])]\n",
        "  while queue:\n",
        "    (vertex, path) = queue.pop(0)\n",
        "    for w in words_at[vertex]:\n",
        "      next = vertex + len(w)\n",
        "      if next == goal:\n",
        "        yield path + [next]\n",
        "      else:\n",
        "        queue.append((next, path+[next]))"
      ],
      "execution_count": null,
      "outputs": []
    },
    {
      "metadata": {
        "id": "pD3W3scey8af",
        "colab": {
          "base_uri": "https://localhost:8080/",
          "height": 34
        },
        "outputId": "93917361-26ee-433a-a104-981ee4e54da2"
      },
      "cell_type": "code",
      "source": [
        "mmcut('สวัสดีครับ สบายดีไหมครับ')"
      ],
      "execution_count": null,
      "outputs": [
        {
          "output_type": "execute_result",
          "data": {
            "text/plain": [
              "['สวัสดี', 'ครับ', ' ', 'สบายดี', 'ไหม', 'ครับ']"
            ]
          },
          "metadata": {
            "tags": []
          },
          "execution_count": 91
        }
      ]
    },
    {
      "metadata": {
        "id": "wnNNhsVJzC5R",
        "colab": {
          "base_uri": "https://localhost:8080/",
          "height": 168
        },
        "outputId": "05136d3c-1c2d-4051-9287-111c59ef1e67"
      },
      "cell_type": "code",
      "source": [
        "words_at"
      ],
      "execution_count": null,
      "outputs": [
        {
          "output_type": "execute_result",
          "data": {
            "text/plain": [
              "defaultdict(list,\n",
              "            {0: ['ส', 'สวัสดี'],\n",
              "             6: ['ครับ'],\n",
              "             10: [' '],\n",
              "             11: ['ส', 'สบาย', 'สบายดี'],\n",
              "             12: ['บา', 'บาย'],\n",
              "             15: ['ดี'],\n",
              "             17: ['ไห', 'ไหม'],\n",
              "             20: ['ครับ']})"
            ]
          },
          "metadata": {
            "tags": []
          },
          "execution_count": 92
        }
      ]
    },
    {
      "metadata": {
        "id": "nQYdBxyDzGse",
        "colab": {
          "base_uri": "https://localhost:8080/",
          "height": 51
        },
        "outputId": "51754d56-bd7d-4ff8-fb8a-9d3ee2257cbe"
      },
      "cell_type": "code",
      "source": [
        "print(mmcut('ตากลม'))\n",
        "words_at"
      ],
      "execution_count": null,
      "outputs": [
        {
          "output_type": "stream",
          "text": [
            "['ตากลม']\n"
          ],
          "name": "stdout"
        },
        {
          "output_type": "execute_result",
          "data": {
            "text/plain": [
              "defaultdict(list, {0: ['ตา', 'ตาก', 'ตากลม'], 2: ['กล', 'กลม'], 3: ['ลม']})"
            ]
          },
          "metadata": {
            "tags": []
          },
          "execution_count": 95
        }
      ]
    },
    {
      "metadata": {
        "id": "ZaaGtoPDA7nq",
        "colab": {
          "base_uri": "https://localhost:8080/",
          "height": 34
        },
        "outputId": "24b61c02-e9d4-4ea2-8849-31faf70559a1"
      },
      "cell_type": "code",
      "source": [
        "next(bfs_paths_1(words_at, 0, 5))"
      ],
      "execution_count": null,
      "outputs": [
        {
          "output_type": "execute_result",
          "data": {
            "text/plain": [
              "[0, 5]"
            ]
          },
          "metadata": {
            "tags": []
          },
          "execution_count": 97
        }
      ]
    },
    {
      "metadata": {
        "id": "-blW3asTA-E_",
        "colab": {
          "base_uri": "https://localhost:8080/",
          "height": 353
        },
        "outputId": "9179fb21-ac9d-4aea-eaa3-aa0060d7dc30"
      },
      "cell_type": "code",
      "source": [
        "mmcut(text)\n",
        "words_at"
      ],
      "execution_count": null,
      "outputs": [
        {
          "output_type": "execute_result",
          "data": {
            "text/plain": [
              "defaultdict(list,\n",
              "            {0: ['ส', 'สวัสดี'],\n",
              "             1: [],\n",
              "             6: ['ครับ'],\n",
              "             10: [' '],\n",
              "             11: ['ส', 'สบาย', 'สบายดี'],\n",
              "             12: ['บา', 'บาย'],\n",
              "             14: [],\n",
              "             15: ['ดี'],\n",
              "             17: ['ไห', 'ไหม'],\n",
              "             19: [],\n",
              "             20: ['ครับ'],\n",
              "             24: [' '],\n",
              "             25: ['จะ'],\n",
              "             27: ['ไป', 'ไปเที่ยว'],\n",
              "             29: ['เที่ยว'],\n",
              "             35: ['ที่', 'ที่ไหน'],\n",
              "             38: ['ไห', 'ไหน'],\n",
              "             40: ['น'],\n",
              "             41: ['ดี']})"
            ]
          },
          "metadata": {
            "tags": []
          },
          "execution_count": 24
        }
      ]
    },
    {
      "metadata": {
        "id": "dpqMyF3JCNZr",
        "colab": {
          "base_uri": "https://localhost:8080/",
          "height": 353
        },
        "outputId": "ac0feb82-82f6-4b46-bb23-651f5052bf10"
      },
      "cell_type": "code",
      "source": [
        "words_at"
      ],
      "execution_count": null,
      "outputs": [
        {
          "output_type": "execute_result",
          "data": {
            "text/plain": [
              "defaultdict(list,\n",
              "            {0: ['ส', 'สวัสดี'],\n",
              "             1: [],\n",
              "             6: ['ครับ'],\n",
              "             10: [' '],\n",
              "             11: ['ส', 'สบาย', 'สบายดี'],\n",
              "             12: ['บา', 'บาย'],\n",
              "             14: [],\n",
              "             15: ['ดี'],\n",
              "             17: ['ไห', 'ไหม'],\n",
              "             19: [],\n",
              "             20: ['ครับ'],\n",
              "             24: [' '],\n",
              "             25: ['จะ'],\n",
              "             27: ['ไป', 'ไปเที่ยว'],\n",
              "             29: ['เที่ยว'],\n",
              "             35: ['ที่', 'ที่ไหน'],\n",
              "             38: ['ไห', 'ไหน'],\n",
              "             40: ['น'],\n",
              "             41: ['ดี']})"
            ]
          },
          "metadata": {
            "tags": []
          },
          "execution_count": 25
        }
      ]
    },
    {
      "metadata": {
        "id": "mx3xITjGCiq0",
        "colab": {
          "base_uri": "https://localhost:8080/",
          "height": 34
        },
        "outputId": "79d03ae5-e46d-4fab-9c34-92e49f24ff30"
      },
      "cell_type": "code",
      "source": [
        "dd = defaultdict(list)\n",
        "dd"
      ],
      "execution_count": null,
      "outputs": [
        {
          "output_type": "execute_result",
          "data": {
            "text/plain": [
              "defaultdict(list, {})"
            ]
          },
          "metadata": {
            "tags": []
          },
          "execution_count": 26
        }
      ]
    },
    {
      "metadata": {
        "id": "WHvPwWMlD3RQ",
        "colab": {
          "base_uri": "https://localhost:8080/",
          "height": 34
        },
        "outputId": "4f31ef42-64e5-4220-c649-97196e0146fd"
      },
      "cell_type": "code",
      "source": [
        "dd[1]\n",
        "dd"
      ],
      "execution_count": null,
      "outputs": [
        {
          "output_type": "execute_result",
          "data": {
            "text/plain": [
              "defaultdict(list, {1: []})"
            ]
          },
          "metadata": {
            "tags": []
          },
          "execution_count": 27
        }
      ]
    },
    {
      "metadata": {
        "id": "cdrihy0jD7Te"
      },
      "cell_type": "code",
      "source": [
        "def onecut_bfs(text):\n",
        "  global words_at, pp, last_p, q\n",
        "  words_at = defaultdict(list)  # main data structure\n",
        "  allow_pos = tcc_pos(text)     # ตำแหน่งที่ตัด ต้องตรงกับ tcc\n",
        "\n",
        "  q = [0]       # min-heap queue\n",
        "  last_p = 0    # last position for yield\n",
        "  while q[0] < len(text):\n",
        "      p = heappop(q)\n",
        "\n",
        "      for w in trie.prefixes(text[p:]):\n",
        "          p_ = p + len(w)\n",
        "          if p_ in allow_pos:  # เลือกที่สอดคล้อง tcc\n",
        "            words_at[p].append(w)\n",
        "            if p_ not in q:\n",
        "              heappush(q, p_)\n",
        "\n",
        "      # กรณี length 1 คือ ไม่กำกวมแล้ว ส่งผลลัพธ์ก่อนนี้คืนได้\n",
        "      if len(q)==1:\n",
        "          pp = next(bfs_paths(words_at, last_p, q[0]))\n",
        "          for p in pp[1:]:\n",
        "            yield text[last_p:p]\n",
        "            last_p = p\n",
        "          # สุดท้าย p == q[0] เอง\n",
        "\n",
        "      # กรณี length 0  คือ ไม่มีใน dict\n",
        "      if len(q)==0:\n",
        "          m = pat_eng.match(text[p:])\n",
        "          if m: # อังกฤษ, เลข, ว่าง\n",
        "              i = p + m.end()\n",
        "          else: # skip น้อยที่สุด ที่เป็นไปได้\n",
        "              for i in range(p+1, len(text)):\n",
        "                  if i in allow_pos:   # ใช้ tcc ด้วย\n",
        "                      ww = trie.prefixes(text[i:])\n",
        "                      m = pat_eng.match(text[i:])\n",
        "                      if ww or m:\n",
        "                          break\n",
        "              else:\n",
        "                  i = len(text)\n",
        "          w = text[p:i]\n",
        "          words_at[p].append(w)\n",
        "          yield w\n",
        "          last_p = i\n",
        "          heappush(q, i)"
      ],
      "execution_count": null,
      "outputs": []
    },
    {
      "metadata": {
        "id": "Su-KdM6p6Gyb",
        "colab": {
          "base_uri": "https://localhost:8080/",
          "height": 34
        },
        "outputId": "bee19436-13b8-4978-e0b6-cf832263b04c"
      },
      "cell_type": "code",
      "source": [
        "[1,2,3].pop(0)"
      ],
      "execution_count": null,
      "outputs": [
        {
          "output_type": "execute_result",
          "data": {
            "text/plain": [
              "1"
            ]
          },
          "metadata": {
            "tags": []
          },
          "execution_count": 123
        }
      ]
    },
    {
      "metadata": {
        "id": "HTVZcr762dKT",
        "colab": {
          "base_uri": "https://localhost:8080/",
          "height": 34
        },
        "outputId": "9fc2a076-3089-4b84-f6db-8927c98b6a6a"
      },
      "cell_type": "code",
      "source": [
        "text = \"กฎหมายมหาชน คือ กฎหมายที่บัญญัติให้อำนาจและหน้าที่แก่รัฐ แก่หน่วยงานของรัฐ แก่เจ้าหน้าที่ของรัฐ และแก่ประชาชน ในการบริหาร การปกครองประเทศ และการบริการสาธารณะ ซึ่งหลักการ สำคัญของกฎหมายมหาชนนอกจากจะบัญญัติให้อำนาจและหน้าที่แก่หน่วยงานของรัฐหรือเจ้าหน้าที่ดังที่กล่าวมาแล้ว การใช้อำนาจหน้าที่ที่กฎหมายบัญญัติยังสามารถควบคุมตรวจสอบได้ ตามหลักเกณฑ์และกระบวนการของกฎหมายมหาชนจุ๋มสบายดีไหมที่รัก\"\n",
        "len(text)"
      ],
      "execution_count": null,
      "outputs": [
        {
          "output_type": "execute_result",
          "data": {
            "text/plain": [
              "389"
            ]
          },
          "metadata": {
            "tags": []
          },
          "execution_count": 102
        }
      ]
    },
    {
      "metadata": {
        "id": "XmFPi9AW2ido",
        "colab": {
          "base_uri": "https://localhost:8080/",
          "height": 34
        },
        "outputId": "ee46e516-2310-4e6e-9df1-811443f721ee"
      },
      "cell_type": "code",
      "source": [
        "%%timeit\n",
        "ww = list(onecut(text))"
      ],
      "execution_count": null,
      "outputs": [
        {
          "output_type": "stream",
          "text": [
            "1000 loops, best of 3: 1.44 ms per loop\n"
          ],
          "name": "stdout"
        }
      ]
    },
    {
      "metadata": {
        "id": "D0_w33dX2qEO",
        "colab": {
          "base_uri": "https://localhost:8080/",
          "height": 34
        },
        "outputId": "bc2de748-a5e3-462b-c33a-0367b0bd736e"
      },
      "cell_type": "code",
      "source": [
        "%%timeit\n",
        "ww = list(onecut_bfs(text))   # เร็วขึ้น 7% แต่ขี้เกียจทำต่อแล้ว"
      ],
      "execution_count": null,
      "outputs": [
        {
          "output_type": "stream",
          "text": [
            "1000 loops, best of 3: 1.35 ms per loop\n"
          ],
          "name": "stdout"
        }
      ]
    },
    {
      "metadata": {
        "id": "zBB_MDbj6YPW",
        "colab": {
          "base_uri": "https://localhost:8080/",
          "height": 34
        },
        "outputId": "86ff9d1d-9c4e-43a3-ce76-8cb11581295a"
      },
      "cell_type": "code",
      "source": [
        "%%timeit\n",
        "ww = list(onecut_bfs(text))   # ใช้ pp.pop(0) แทน pp[1:]"
      ],
      "execution_count": null,
      "outputs": [
        {
          "output_type": "stream",
          "text": [
            "1000 loops, best of 3: 1.36 ms per loop\n"
          ],
          "name": "stdout"
        }
      ]
    },
    {
      "metadata": {
        "id": "16Xf5a5a3Uyr",
        "colab": {
          "base_uri": "https://localhost:8080/",
          "height": 151
        },
        "outputId": "204e157e-b7a1-47ae-c947-6454a933cef6"
      },
      "cell_type": "code",
      "source": [
        "list(bfs_paths(words_at, last_p, q[0]))"
      ],
      "execution_count": null,
      "outputs": [
        {
          "output_type": "execute_result",
          "data": {
            "text/plain": [
              "[[0, 6, 11],\n",
              " [0, 2, 6, 11],\n",
              " [0, 6, 9, 11],\n",
              " [0, 2, 6, 9, 11],\n",
              " [0, 6, 9, 10, 11],\n",
              " [0, 2, 5, 7, 9, 11],\n",
              " [0, 2, 6, 9, 10, 11],\n",
              " [0, 2, 5, 7, 9, 10, 11]]"
            ]
          },
          "metadata": {
            "tags": []
          },
          "execution_count": 117
        }
      ]
    },
    {
      "metadata": {
        "id": "sYRiKA2C7FP9"
      },
      "cell_type": "markdown",
      "source": [
        "## Graph แทน words_at\n",
        "อาจจะ debug ยากขึ้นหน่อย แต่น่าจะเร็วกว่า"
      ]
    },
    {
      "metadata": {
        "id": "PdGgTgEt7o8s"
      },
      "cell_type": "code",
      "source": [
        "def bfs_paths_graph(graph, start, goal):\n",
        "  queue = [(start, [start])]\n",
        "  while queue:\n",
        "    (vertex, path) = queue.pop(0)\n",
        "    for next in graph[vertex]:\n",
        "      if next == goal:\n",
        "        yield path + [next]\n",
        "      else:\n",
        "        queue.append((next, path+[next]))"
      ],
      "execution_count": null,
      "outputs": []
    },
    {
      "metadata": {
        "id": "MYZ7NzAR7Dmw"
      },
      "cell_type": "code",
      "source": [
        "def onecut_graph(text):\n",
        "  # global graph, pp, last_p, q\n",
        "  graph = defaultdict(list)  # main data structure\n",
        "  allow_pos = tcc_pos(text)     # ตำแหน่งที่ตัด ต้องตรงกับ tcc\n",
        "\n",
        "  q = [0]       # min-heap queue\n",
        "  last_p = 0    # last position for yield\n",
        "  while q[0] < len(text):\n",
        "      p = heappop(q)\n",
        "\n",
        "      for w in trie.prefixes(text[p:]):\n",
        "          p_ = p + len(w)\n",
        "          if p_ in allow_pos:  # เลือกที่สอดคล้อง tcc\n",
        "            graph[p].append(p_)\n",
        "            if p_ not in q:\n",
        "              heappush(q, p_)\n",
        "\n",
        "      # กรณี length 1 คือ ไม่กำกวมแล้ว ส่งผลลัพธ์ก่อนนี้คืนได้\n",
        "      if len(q)==1:\n",
        "          pp = next(bfs_paths_graph(graph, last_p, q[0]))\n",
        "          # เริ่มต้น last_p = pp[0] เอง\n",
        "          for p in pp[1:]:\n",
        "            yield text[last_p:p]\n",
        "            last_p = p\n",
        "          # สุดท้าย last_p == q[0] เอง\n",
        "\n",
        "      # กรณี length 0  คือ ไม่มีใน dict\n",
        "      if len(q)==0:\n",
        "          m = pat_eng.match(text[p:])\n",
        "          if m: # อังกฤษ, เลข, ว่าง\n",
        "              i = p + m.end()\n",
        "          else: # skip น้อยที่สุด ที่เป็นไปได้\n",
        "              for i in range(p+1, len(text)):\n",
        "                  if i in allow_pos:   # ใช้ tcc ด้วย\n",
        "                      ww = trie.prefixes(text[i:])\n",
        "                      m = pat_eng.match(text[i:])\n",
        "                      if ww or m:\n",
        "                          break\n",
        "              else:\n",
        "                  i = len(text)\n",
        "          w = text[p:i]\n",
        "          graph[p].append(i)\n",
        "          yield w\n",
        "          last_p = i\n",
        "          heappush(q, i)"
      ],
      "execution_count": null,
      "outputs": []
    },
    {
      "metadata": {
        "id": "5lfNZOW_8fE1",
        "colab": {
          "base_uri": "https://localhost:8080/",
          "height": 34
        },
        "outputId": "ba4ebd58-5610-45f6-d181-cb41a2d6c51a"
      },
      "cell_type": "code",
      "source": [
        "%%timeit\n",
        "ww = list(onecut_graph(text))   # เอา global ออก เร็วขึ้นนิดนึง"
      ],
      "execution_count": null,
      "outputs": [
        {
          "output_type": "stream",
          "text": [
            "1000 loops, best of 3: 1.33 ms per loop\n"
          ],
          "name": "stdout"
        }
      ]
    },
    {
      "metadata": {
        "id": "X6teTgvD8mov",
        "colab": {
          "base_uri": "https://localhost:8080/",
          "height": 1445
        },
        "outputId": "1ddcc4cc-e631-4a26-f482-3bf7fe4e22d2"
      },
      "cell_type": "code",
      "source": [
        "list(onecut_graph(text))"
      ],
      "execution_count": null,
      "outputs": [
        {
          "output_type": "execute_result",
          "data": {
            "text/plain": [
              "['กฎหมาย',\n",
              " 'มหาชน',\n",
              " ' ',\n",
              " 'คือ',\n",
              " ' ',\n",
              " 'กฎหมาย',\n",
              " 'ที่',\n",
              " 'บัญญัติ',\n",
              " 'ให้อำนาจ',\n",
              " 'และ',\n",
              " 'หน้าที่',\n",
              " 'แก่',\n",
              " 'รัฐ',\n",
              " ' ',\n",
              " 'แก่',\n",
              " 'หน่วยงาน',\n",
              " 'ของ',\n",
              " 'รัฐ',\n",
              " ' ',\n",
              " 'แก่',\n",
              " 'เจ้าหน้าที่',\n",
              " 'ของ',\n",
              " 'รัฐ',\n",
              " ' ',\n",
              " 'และ',\n",
              " 'แก่',\n",
              " 'ประชาชน',\n",
              " ' ',\n",
              " 'ใน',\n",
              " 'การบริหาร',\n",
              " ' ',\n",
              " 'การปกครอง',\n",
              " 'ประเทศ',\n",
              " ' ',\n",
              " 'และ',\n",
              " 'การ',\n",
              " 'บริการ',\n",
              " 'สาธารณะ',\n",
              " ' ',\n",
              " 'ซึ่ง',\n",
              " 'หลักการ',\n",
              " ' ',\n",
              " 'สำคัญ',\n",
              " 'ของ',\n",
              " 'กฎหมาย',\n",
              " 'มหาชน',\n",
              " 'นอกจาก',\n",
              " 'จะ',\n",
              " 'บัญญัติ',\n",
              " 'ให้อำนาจ',\n",
              " 'และ',\n",
              " 'หน้าที่',\n",
              " 'แก่',\n",
              " 'หน่วยงาน',\n",
              " 'ของ',\n",
              " 'รัฐ',\n",
              " 'หรือ',\n",
              " 'เจ้าหน้าที่',\n",
              " 'ดัง',\n",
              " 'ที่กล่าวมา',\n",
              " 'แล้ว',\n",
              " ' ',\n",
              " 'การ',\n",
              " 'ใช้',\n",
              " 'อำนาจหน้าที่',\n",
              " 'ที่',\n",
              " 'กฎหมาย',\n",
              " 'บัญญัติ',\n",
              " 'ยัง',\n",
              " 'สามารถ',\n",
              " 'ควบคุม',\n",
              " 'ตรวจสอบ',\n",
              " 'ได้',\n",
              " ' ',\n",
              " 'ตาม',\n",
              " 'หลักเกณฑ์',\n",
              " 'และ',\n",
              " 'กระบวนการ',\n",
              " 'ของ',\n",
              " 'กฎหมาย',\n",
              " 'มหาชน',\n",
              " 'จุ๋ม',\n",
              " 'สบายดี',\n",
              " 'ไหม',\n",
              " 'ที่รัก']"
            ]
          },
          "metadata": {
            "tags": []
          },
          "execution_count": 133
        }
      ]
    },
    {
      "metadata": {
        "id": "_sW15BnK57uD"
      },
      "cell_type": "markdown",
      "source": [
        "# เขียนใหม่\n",
        "เริ่มจากแต่แรกใหม่ แต่จะ test ไปด้วยว่าต้อง efficient ทุกอย่าง"
      ]
    },
    {
      "metadata": {
        "id": "_d2mZxqO9N_t"
      },
      "cell_type": "markdown",
      "source": [
        "## Import"
      ]
    },
    {
      "metadata": {
        "id": "N_cmdUbK8Ar9"
      },
      "cell_type": "code",
      "source": [
        "import numpy as np\n",
        "!pip install -q bitarray\n",
        "from bitarray import bitarray\n",
        "from random import randint"
      ],
      "execution_count": null,
      "outputs": []
    },
    {
      "metadata": {
        "id": "qGZ6x7B76M9N"
      },
      "cell_type": "markdown",
      "source": [
        "## Test เรื่องที่คาใจ\n",
        "มีหลายประเด็นที่ assume เอา ลอง test ก่อนเลยให้สบายใจ"
      ]
    },
    {
      "metadata": {
        "id": "SPE2wcwI6WI8"
      },
      "cell_type": "markdown",
      "source": [
        "### Test in-set membership\n",
        "ว่า ใช้ set เร็วกว่า list, อันนี้ค่อนข้างมั่นใจ เลย test ก่อนเลย"
      ]
    },
    {
      "metadata": {
        "id": "1oaP6alr6EHb",
        "colab": {
          "base_uri": "https://localhost:8080/",
          "height": 34
        },
        "outputId": "c8af6f26-a8f5-4f48-c928-18ca57ab43dc"
      },
      "cell_type": "code",
      "source": [
        "int_set = {random.randint(1,10) for _ in range(10)}\n",
        "int_set"
      ],
      "execution_count": null,
      "outputs": [
        {
          "output_type": "execute_result",
          "data": {
            "text/plain": [
              "{1, 2, 5, 6, 8}"
            ]
          },
          "metadata": {
            "tags": []
          },
          "execution_count": 29
        }
      ]
    },
    {
      "metadata": {
        "id": "KiprJXoQ6m03",
        "colab": {
          "base_uri": "https://localhost:8080/",
          "height": 71
        },
        "outputId": "6cd72b8a-3181-420d-ab18-f50ded06cd4e"
      },
      "cell_type": "code",
      "source": [
        "%%timeit\n",
        "3 in int_set"
      ],
      "execution_count": null,
      "outputs": [
        {
          "output_type": "stream",
          "text": [
            "The slowest run took 28.81 times longer than the fastest. This could mean that an intermediate result is being cached.\n",
            "10000000 loops, best of 3: 40.5 ns per loop\n"
          ],
          "name": "stdout"
        }
      ]
    },
    {
      "metadata": {
        "id": "YxXBRair6869",
        "colab": {
          "base_uri": "https://localhost:8080/",
          "height": 34
        },
        "outputId": "16588adb-2cb3-453b-9ee3-4feafca1f617"
      },
      "cell_type": "code",
      "source": [
        "%%timeit\n",
        "5 in int_set"
      ],
      "execution_count": null,
      "outputs": [
        {
          "output_type": "stream",
          "text": [
            "10000000 loops, best of 3: 40.3 ns per loop\n"
          ],
          "name": "stdout"
        }
      ]
    },
    {
      "metadata": {
        "id": "brn0XW3g7EQk",
        "colab": {
          "base_uri": "https://localhost:8080/",
          "height": 34
        },
        "outputId": "79c8e60f-7f28-4be0-9647-0240daaa09ef"
      },
      "cell_type": "code",
      "source": [
        "int_list = [random.randint(1,10) for _ in range(10)]\n",
        "int_list"
      ],
      "execution_count": null,
      "outputs": [
        {
          "output_type": "execute_result",
          "data": {
            "text/plain": [
              "[6, 10, 2, 8, 6, 4, 6, 4, 3, 4]"
            ]
          },
          "metadata": {
            "tags": []
          },
          "execution_count": 32
        }
      ]
    },
    {
      "metadata": {
        "id": "OkzWlZNS7N7R",
        "colab": {
          "base_uri": "https://localhost:8080/",
          "height": 71
        },
        "outputId": "7006f889-1d8d-46f3-e374-8f80399533c3"
      },
      "cell_type": "code",
      "source": [
        "%%timeit\n",
        "5 in int_list"
      ],
      "execution_count": null,
      "outputs": [
        {
          "output_type": "stream",
          "text": [
            "The slowest run took 6.99 times longer than the fastest. This could mean that an intermediate result is being cached.\n",
            "10000000 loops, best of 3: 173 ns per loop\n"
          ],
          "name": "stdout"
        }
      ]
    },
    {
      "metadata": {
        "id": "kG-DXcF97Ttc",
        "colab": {
          "base_uri": "https://localhost:8080/",
          "height": 71
        },
        "outputId": "84a3c7d7-760b-463f-8dee-104da140e0e7"
      },
      "cell_type": "code",
      "source": [
        "%%timeit\n",
        "7 in int_list"
      ],
      "execution_count": null,
      "outputs": [
        {
          "output_type": "stream",
          "text": [
            "The slowest run took 8.59 times longer than the fastest. This could mean that an intermediate result is being cached.\n",
            "10000000 loops, best of 3: 185 ns per loop\n"
          ],
          "name": "stdout"
        }
      ]
    },
    {
      "metadata": {
        "id": "Su13MUvr7dAO"
      },
      "cell_type": "markdown",
      "source": [
        "สรุปว่า test membership นี่ set เร็วกว่า list ราว 2-5 เท่า"
      ]
    },
    {
      "metadata": {
        "id": "DsQ6U-4y84x_",
        "colab": {
          "base_uri": "https://localhost:8080/",
          "height": 34
        },
        "outputId": "ffde41b7-a9a1-4395-80af-15884d972a39"
      },
      "cell_type": "code",
      "source": [
        "# เทียบ bitarray บ้าง\n",
        "int_ba = bitarray([randint(0,1) for _ in range(10)])\n",
        "int_ba"
      ],
      "execution_count": null,
      "outputs": [
        {
          "output_type": "execute_result",
          "data": {
            "text/plain": [
              "bitarray('0101101010')"
            ]
          },
          "metadata": {
            "tags": []
          },
          "execution_count": 35
        }
      ]
    },
    {
      "metadata": {
        "id": "a19A5YHq9eju",
        "colab": {
          "base_uri": "https://localhost:8080/",
          "height": 71
        },
        "outputId": "c56aa9ae-59fd-4b3c-800e-0ba0863a5379"
      },
      "cell_type": "code",
      "source": [
        "%%timeit\n",
        "int_ba[5]  # กลายเป็นว่าช้า"
      ],
      "execution_count": null,
      "outputs": [
        {
          "output_type": "stream",
          "text": [
            "The slowest run took 30.36 times longer than the fastest. This could mean that an intermediate result is being cached.\n",
            "10000000 loops, best of 3: 156 ns per loop\n"
          ],
          "name": "stdout"
        }
      ]
    },
    {
      "metadata": {
        "id": "W9C2TTsA-Hr4",
        "colab": {
          "base_uri": "https://localhost:8080/",
          "height": 34
        },
        "outputId": "78fa4dec-3ce1-4772-bbc3-fa80f7e7785a"
      },
      "cell_type": "code",
      "source": [
        "# เทียบ list of bool\n",
        "int_listbool = [bool(randint(0,1)) for _ in range(10)]\n",
        "int_listbool"
      ],
      "execution_count": null,
      "outputs": [
        {
          "output_type": "execute_result",
          "data": {
            "text/plain": [
              "[False, False, True, False, True, True, False, True, True, True]"
            ]
          },
          "metadata": {
            "tags": []
          },
          "execution_count": 37
        }
      ]
    },
    {
      "metadata": {
        "id": "mlAuGmK2-VrG",
        "colab": {
          "base_uri": "https://localhost:8080/",
          "height": 71
        },
        "outputId": "5d8bd0c7-fe85-4cdc-e215-3c792a0d4023"
      },
      "cell_type": "code",
      "source": [
        "%%timeit\n",
        "int_listbool[5]  # เร็วขึ้นนิด แต่ก็ยังช้ากว่า set"
      ],
      "execution_count": null,
      "outputs": [
        {
          "output_type": "stream",
          "text": [
            "The slowest run took 24.76 times longer than the fastest. This could mean that an intermediate result is being cached.\n",
            "10000000 loops, best of 3: 40.9 ns per loop\n"
          ],
          "name": "stdout"
        }
      ]
    },
    {
      "metadata": {
        "id": "JD3l8MHnB_ZV",
        "colab": {
          "base_uri": "https://localhost:8080/",
          "height": 34
        },
        "outputId": "4476324d-8559-4de2-b1e0-b825c3256bf7"
      },
      "cell_type": "code",
      "source": [
        "# frozen set จะเร็วขึ้นไหม   ก็แค่พอกัน\n",
        "int_fset = frozenset(random.randint(1,10) for _ in range(10))\n",
        "int_fset"
      ],
      "execution_count": null,
      "outputs": [
        {
          "output_type": "execute_result",
          "data": {
            "text/plain": [
              "frozenset({2, 3, 4, 5, 6, 9, 10})"
            ]
          },
          "metadata": {
            "tags": []
          },
          "execution_count": 39
        }
      ]
    },
    {
      "metadata": {
        "id": "h579KWqsCIYZ",
        "colab": {
          "base_uri": "https://localhost:8080/",
          "height": 71
        },
        "outputId": "01454c32-8feb-4422-e644-1373007e3eb5"
      },
      "cell_type": "code",
      "source": [
        "%%timeit\n",
        "4 in int_fset"
      ],
      "execution_count": null,
      "outputs": [
        {
          "output_type": "stream",
          "text": [
            "The slowest run took 40.06 times longer than the fastest. This could mean that an intermediate result is being cached.\n",
            "10000000 loops, best of 3: 40.2 ns per loop\n"
          ],
          "name": "stdout"
        }
      ]
    },
    {
      "metadata": {
        "id": "BLox1kU8CSUW",
        "colab": {
          "base_uri": "https://localhost:8080/",
          "height": 71
        },
        "outputId": "9dd03658-239c-4347-c6c0-a4ee47693d6a"
      },
      "cell_type": "code",
      "source": [
        "%%timeit\n",
        "3 in int_fset"
      ],
      "execution_count": null,
      "outputs": [
        {
          "output_type": "stream",
          "text": [
            "The slowest run took 26.59 times longer than the fastest. This could mean that an intermediate result is being cached.\n",
            "10000000 loops, best of 3: 40.5 ns per loop\n"
          ],
          "name": "stdout"
        }
      ]
    },
    {
      "metadata": {
        "id": "7LpEpbkD7rBI"
      },
      "cell_type": "markdown",
      "source": [
        "### Test list of string vs int\n",
        "ว่าจะเก็บ words_at เป็นอะไรจะเร็วกว่า"
      ]
    },
    {
      "metadata": {
        "id": "vqOwx5Tn7Wmu"
      },
      "cell_type": "code",
      "source": [
        "words = 'hello hi howwday hiiiiiiiii h'.split()"
      ],
      "execution_count": null,
      "outputs": []
    },
    {
      "metadata": {
        "id": "Bj9t_UQf8bZq",
        "colab": {
          "base_uri": "https://localhost:8080/",
          "height": 71
        },
        "outputId": "fb8ba053-2112-446b-856c-77991f7b78e2"
      },
      "cell_type": "code",
      "source": [
        "%%timeit\n",
        "res = []\n",
        "for w in words:\n",
        "  res.append(w[:])"
      ],
      "execution_count": null,
      "outputs": [
        {
          "output_type": "stream",
          "text": [
            "The slowest run took 4.28 times longer than the fastest. This could mean that an intermediate result is being cached.\n",
            "1000000 loops, best of 3: 780 ns per loop\n"
          ],
          "name": "stdout"
        }
      ]
    },
    {
      "metadata": {
        "id": "8N7ndnKYDO--",
        "colab": {
          "base_uri": "https://localhost:8080/",
          "height": 71
        },
        "outputId": "1d4149c5-8b7c-4932-f512-907a1a4a18c2"
      },
      "cell_type": "code",
      "source": [
        "%%timeit\n",
        "res = []\n",
        "for w in words:\n",
        "  res.append(len(w))  # len ก็พอๆ กับสร้าง string ใหม่"
      ],
      "execution_count": null,
      "outputs": [
        {
          "output_type": "stream",
          "text": [
            "The slowest run took 4.41 times longer than the fastest. This could mean that an intermediate result is being cached.\n",
            "1000000 loops, best of 3: 824 ns per loop\n"
          ],
          "name": "stdout"
        }
      ]
    },
    {
      "metadata": {
        "id": "VvlvLhF4D616"
      },
      "cell_type": "markdown",
      "source": [
        "ตอนเก็บ words_at น่าจะดีกว่า เพราะเอา int ไปใช้ breadth-first searcha ได้"
      ]
    },
    {
      "metadata": {
        "id": "oRKeSmkYELmi"
      },
      "cell_type": "markdown",
      "source": [
        "### Test สร้าง list หรือ join string"
      ]
    },
    {
      "metadata": {
        "id": "fIzgSLd1DeJv",
        "colab": {
          "base_uri": "https://localhost:8080/",
          "height": 71
        },
        "outputId": "04784705-a204-4ee2-af2a-3ee857c40f26"
      },
      "cell_type": "code",
      "source": [
        "%%timeit\n",
        "s = ''\n",
        "for w in words:\n",
        "  s += '/' + w\n",
        "n = s.count('/')"
      ],
      "execution_count": null,
      "outputs": [
        {
          "output_type": "stream",
          "text": [
            "The slowest run took 4.60 times longer than the fastest. This could mean that an intermediate result is being cached.\n",
            "1000000 loops, best of 3: 893 ns per loop\n"
          ],
          "name": "stdout"
        }
      ]
    },
    {
      "metadata": {
        "id": "JMTxUs1wEddc",
        "colab": {
          "base_uri": "https://localhost:8080/",
          "height": 71
        },
        "outputId": "61b13c41-5410-4f74-d46d-1f1113b6da08"
      },
      "cell_type": "code",
      "source": [
        "%%timeit\n",
        "l = []\n",
        "for w in words:\n",
        "  l.append(w)\n",
        "n = len(w)   # ใช้ list เร็วกว่าแฮะ"
      ],
      "execution_count": null,
      "outputs": [
        {
          "output_type": "stream",
          "text": [
            "The slowest run took 8.37 times longer than the fastest. This could mean that an intermediate result is being cached.\n",
            "1000000 loops, best of 3: 600 ns per loop\n"
          ],
          "name": "stdout"
        }
      ]
    },
    {
      "metadata": {
        "id": "6OiQ9TlrGne6"
      },
      "cell_type": "markdown",
      "source": [
        "### min vs index"
      ]
    },
    {
      "metadata": {
        "id": "XtkYn2feGV__"
      },
      "cell_type": "code",
      "source": [
        "it = iter(['hello'])"
      ],
      "execution_count": null,
      "outputs": []
    },
    {
      "metadata": {
        "id": "hcm2-JImE532",
        "colab": {
          "base_uri": "https://localhost:8080/",
          "height": 71
        },
        "outputId": "895ca24c-5572-4297-8911-6337ce58c9e8"
      },
      "cell_type": "code",
      "source": [
        "%%timeit\n",
        "min(iter(['hello']), key=len)"
      ],
      "execution_count": null,
      "outputs": [
        {
          "output_type": "stream",
          "text": [
            "The slowest run took 10.57 times longer than the fastest. This could mean that an intermediate result is being cached.\n",
            "1000000 loops, best of 3: 574 ns per loop\n"
          ],
          "name": "stdout"
        }
      ]
    },
    {
      "metadata": {
        "id": "V6JNGZByF02v",
        "colab": {
          "base_uri": "https://localhost:8080/",
          "height": 71
        },
        "outputId": "bf77e973-8703-41e9-eeae-60831a5c4ee5"
      },
      "cell_type": "code",
      "source": [
        "%%timeit\n",
        "list(iter(['hello']))[0]   # เร็วกว่าหน่อย"
      ],
      "execution_count": null,
      "outputs": [
        {
          "output_type": "stream",
          "text": [
            "The slowest run took 8.50 times longer than the fastest. This could mean that an intermediate result is being cached.\n",
            "1000000 loops, best of 3: 469 ns per loop\n"
          ],
          "name": "stdout"
        }
      ]
    },
    {
      "metadata": {
        "id": "0ehK4w45GuRs"
      },
      "cell_type": "code",
      "source": [
        "graph = {\n",
        "    0:[1,2,6],\n",
        "\n",
        "}"
      ],
      "execution_count": null,
      "outputs": []
    },
    {
      "metadata": {
        "id": "VIETL1h2rNo3",
        "colab": {
          "base_uri": "https://localhost:8080/",
          "height": 179
        },
        "outputId": "85ab0528-3804-4435-f2b7-71efbc9b5f80"
      },
      "cell_type": "code",
      "source": [
        "q = []\n",
        "heappop(q)"
      ],
      "execution_count": null,
      "outputs": [
        {
          "output_type": "error",
          "ename": "IndexError",
          "evalue": "ignored",
          "traceback": [
            "\u001b[0;31m---------------------------------------------------------------------------\u001b[0m",
            "\u001b[0;31mIndexError\u001b[0m                                Traceback (most recent call last)",
            "\u001b[0;32m<ipython-input-52-bb907c0596b5>\u001b[0m in \u001b[0;36m<module>\u001b[0;34m()\u001b[0m\n\u001b[1;32m      1\u001b[0m \u001b[0mq\u001b[0m \u001b[0;34m=\u001b[0m \u001b[0;34m[\u001b[0m\u001b[0;34m]\u001b[0m\u001b[0;34m\u001b[0m\u001b[0m\n\u001b[0;32m----> 2\u001b[0;31m \u001b[0mheappop\u001b[0m\u001b[0;34m(\u001b[0m\u001b[0mq\u001b[0m\u001b[0;34m)\u001b[0m\u001b[0;34m\u001b[0m\u001b[0m\n\u001b[0m",
            "\u001b[0;31mIndexError\u001b[0m: index out of range"
          ]
        }
      ]
    },
    {
      "metadata": {
        "id": "k5p4unZasAnv",
        "colab": {
          "base_uri": "https://localhost:8080/",
          "height": 34
        },
        "outputId": "478014d2-6bd5-4862-f300-8509be9d9db1"
      },
      "cell_type": "code",
      "source": [
        "text = \"กฎหมายมหาชน คือ กฎหมายที่บัญญัติให้อำนาจและหน้าที่แก่รัฐ แก่หน่วยงานของรัฐ แก่เจ้าหน้าที่ของรัฐ และแก่ประชาชน ในการบริหาร การปกครองประเทศ และการบริการสาธารณะ ซึ่งหลักการ สำคัญของกฎหมายมหาชนนอกจากจะบัญญัติให้อำนาจและหน้าที่แก่หน่วยงานของรัฐหรือเจ้าหน้าที่ดังที่กล่าวมาแล้ว การใช้อำนาจหน้าที่ที่กฎหมายบัญญัติยังสามารถควบคุมตรวจสอบได้ ตามหลักเกณฑ์และกระบวนการของกฎหมายมหาชนจุ๋มสบายดีไหมที่รัก\"\n",
        "len(text)"
      ],
      "execution_count": null,
      "outputs": [
        {
          "output_type": "execute_result",
          "data": {
            "text/plain": [
              "389"
            ]
          },
          "metadata": {
            "tags": []
          },
          "execution_count": 87
        }
      ]
    },
    {
      "metadata": {
        "id": "iX2jtrAYsD3k",
        "colab": {
          "base_uri": "https://localhost:8080/",
          "height": 1445
        },
        "outputId": "6362daa0-000e-4129-c412-b395a8669b1f"
      },
      "cell_type": "code",
      "source": [
        "#text = 'มหาชนจุกปปปปxxxa;dfoijsl;สำ่ดรนำด่ฟนสด่ดร'\n",
        "mmcut(text)"
      ],
      "execution_count": null,
      "outputs": [
        {
          "output_type": "execute_result",
          "data": {
            "text/plain": [
              "['กฎหมาย',\n",
              " 'มหาชน',\n",
              " ' ',\n",
              " 'คือ',\n",
              " ' ',\n",
              " 'กฎหมาย',\n",
              " 'ที่',\n",
              " 'บัญญัติ',\n",
              " 'ให้อำนาจ',\n",
              " 'และ',\n",
              " 'หน้าที่',\n",
              " 'แก่',\n",
              " 'รัฐ',\n",
              " ' ',\n",
              " 'แก่',\n",
              " 'หน่วยงาน',\n",
              " 'ของ',\n",
              " 'รัฐ',\n",
              " ' ',\n",
              " 'แก่',\n",
              " 'เจ้าหน้าที่',\n",
              " 'ของ',\n",
              " 'รัฐ',\n",
              " ' ',\n",
              " 'และ',\n",
              " 'แก่',\n",
              " 'ประชาชน',\n",
              " ' ',\n",
              " 'ใน',\n",
              " 'การบริหาร',\n",
              " ' ',\n",
              " 'การปกครอง',\n",
              " 'ประเทศ',\n",
              " ' ',\n",
              " 'และ',\n",
              " 'การ',\n",
              " 'บริการ',\n",
              " 'สาธารณะ',\n",
              " ' ',\n",
              " 'ซึ่ง',\n",
              " 'หลักการ',\n",
              " ' ',\n",
              " 'สำคัญ',\n",
              " 'ของ',\n",
              " 'กฎหมาย',\n",
              " 'มหาชน',\n",
              " 'นอกจาก',\n",
              " 'จะ',\n",
              " 'บัญญัติ',\n",
              " 'ให้อำนาจ',\n",
              " 'และ',\n",
              " 'หน้าที่',\n",
              " 'แก่',\n",
              " 'หน่วยงาน',\n",
              " 'ของ',\n",
              " 'รัฐ',\n",
              " 'หรือ',\n",
              " 'เจ้าหน้าที่',\n",
              " 'ดัง',\n",
              " 'ที่กล่าวมา',\n",
              " 'แล้ว',\n",
              " ' ',\n",
              " 'การ',\n",
              " 'ใช้',\n",
              " 'อำนาจหน้าที่',\n",
              " 'ที่',\n",
              " 'กฎหมาย',\n",
              " 'บัญญัติ',\n",
              " 'ยัง',\n",
              " 'สามารถ',\n",
              " 'ควบคุม',\n",
              " 'ตรวจสอบ',\n",
              " 'ได้',\n",
              " ' ',\n",
              " 'ตาม',\n",
              " 'หลักเกณฑ์',\n",
              " 'และ',\n",
              " 'กระบวนการ',\n",
              " 'ของ',\n",
              " 'กฎหมาย',\n",
              " 'มหาชน',\n",
              " 'จุ๋ม',\n",
              " 'สบายดี',\n",
              " 'ไหม',\n",
              " 'ที่รัก']"
            ]
          },
          "metadata": {
            "tags": []
          },
          "execution_count": 88
        }
      ]
    },
    {
      "metadata": {
        "id": "csjF5ryJssrf",
        "colab": {
          "base_uri": "https://localhost:8080/",
          "height": 336
        },
        "outputId": "2bc28c43-940f-4050-93a5-6e296aa5fd36"
      },
      "cell_type": "code",
      "source": [
        "words_at"
      ],
      "execution_count": null,
      "outputs": [
        {
          "output_type": "execute_result",
          "data": {
            "text/plain": [
              "defaultdict(list,\n",
              "            {0: ['มหา', 'มหาชน'],\n",
              "             3: ['ช', 'ชน'],\n",
              "             4: ['น'],\n",
              "             5: ['จุ', 'จุก'],\n",
              "             7: [],\n",
              "             8: ['ปปปป'],\n",
              "             12: ['xxxa'],\n",
              "             16: [';'],\n",
              "             17: ['dfoijsl'],\n",
              "             24: [';'],\n",
              "             25: ['สำ่'],\n",
              "             28: ['ดร'],\n",
              "             30: ['นำ'],\n",
              "             32: ['ด่ฟ'],\n",
              "             35: ['น'],\n",
              "             36: ['ส'],\n",
              "             37: ['ด่'],\n",
              "             39: ['ดร']})"
            ]
          },
          "metadata": {
            "tags": []
          },
          "execution_count": 85
        }
      ]
    },
    {
      "metadata": {
        "id": "mWnHypnNHLrf"
      },
      "cell_type": "markdown",
      "source": [
        "# Next"
      ]
    },
    {
      "metadata": {
        "id": "mPxlqPjZHMtF"
      },
      "cell_type": "code",
      "source": [],
      "execution_count": null,
      "outputs": []
    }
  ]
}